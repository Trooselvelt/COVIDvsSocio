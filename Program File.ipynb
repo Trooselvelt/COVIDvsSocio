{
 "cells": [
  {
   "cell_type": "code",
   "execution_count": 1,
   "metadata": {},
   "outputs": [],
   "source": [
    "import pandas as pd\n",
    "import numpy as np\n",
    "import seaborn as sns\n",
    "import matplotlib.pyplot as plt\n",
    "import scipy.stats as st\n",
    "%matplotlib inline\n",
    "plt.rcParams['figure.figsize'] = [15, 13]"
   ]
  },
  {
   "cell_type": "markdown",
   "metadata": {},
   "source": [
    "# Data Cleaning and Preprocessing"
   ]
  },
  {
   "cell_type": "code",
   "execution_count": 2,
   "metadata": {},
   "outputs": [
    {
     "name": "stdout",
     "output_type": "stream",
     "text": [
      "<class 'pandas.core.frame.DataFrame'>\n",
      "Int64Index: 215 entries, 227 to 59942\n",
      "Data columns (total 50 columns):\n",
      " #   Column                              Non-Null Count  Dtype  \n",
      "---  ------                              --------------  -----  \n",
      " 0   iso_code                            214 non-null    object \n",
      " 1   continent                           213 non-null    object \n",
      " 2   location                            215 non-null    object \n",
      " 3   date                                215 non-null    object \n",
      " 4   total_cases                         214 non-null    float64\n",
      " 5   new_cases                           213 non-null    float64\n",
      " 6   new_cases_smoothed                  212 non-null    float64\n",
      " 7   total_deaths                        192 non-null    float64\n",
      " 8   new_deaths                          213 non-null    float64\n",
      " 9   new_deaths_smoothed                 212 non-null    float64\n",
      " 10  total_cases_per_million             213 non-null    float64\n",
      " 11  new_cases_per_million               213 non-null    float64\n",
      " 12  new_cases_smoothed_per_million      212 non-null    float64\n",
      " 13  total_deaths_per_million            191 non-null    float64\n",
      " 14  new_deaths_per_million              213 non-null    float64\n",
      " 15  new_deaths_smoothed_per_million     212 non-null    float64\n",
      " 16  reproduction_rate                   177 non-null    float64\n",
      " 17  icu_patients                        17 non-null     float64\n",
      " 18  icu_patients_per_million            17 non-null     float64\n",
      " 19  hosp_patients                       21 non-null     float64\n",
      " 20  hosp_patients_per_million           21 non-null     float64\n",
      " 21  weekly_icu_admissions               0 non-null      float64\n",
      " 22  weekly_icu_admissions_per_million   0 non-null      float64\n",
      " 23  weekly_hosp_admissions              0 non-null      float64\n",
      " 24  weekly_hosp_admissions_per_million  0 non-null      float64\n",
      " 25  total_tests                         86 non-null     float64\n",
      " 26  new_tests                           86 non-null     float64\n",
      " 27  total_tests_per_thousand            86 non-null     float64\n",
      " 28  new_tests_per_thousand              86 non-null     float64\n",
      " 29  new_tests_smoothed                  100 non-null    float64\n",
      " 30  new_tests_smoothed_per_thousand     100 non-null    float64\n",
      " 31  tests_per_case                      96 non-null     float64\n",
      " 32  positive_rate                       96 non-null     float64\n",
      " 33  tests_units                         101 non-null    object \n",
      " 34  stringency_index                    174 non-null    float64\n",
      " 35  population                          214 non-null    float64\n",
      " 36  population_density                  202 non-null    float64\n",
      " 37  median_age                          188 non-null    float64\n",
      " 38  aged_65_older                       185 non-null    float64\n",
      " 39  aged_70_older                       187 non-null    float64\n",
      " 40  gdp_per_capita                      186 non-null    float64\n",
      " 41  extreme_poverty                     123 non-null    float64\n",
      " 42  cardiovasc_death_rate               188 non-null    float64\n",
      " 43  diabetes_prevalence                 196 non-null    float64\n",
      " 44  female_smokers                      141 non-null    float64\n",
      " 45  male_smokers                        139 non-null    float64\n",
      " 46  handwashing_facilities              94 non-null     float64\n",
      " 47  hospital_beds_per_thousand          167 non-null    float64\n",
      " 48  life_expectancy                     211 non-null    float64\n",
      " 49  human_development_index             182 non-null    float64\n",
      "dtypes: float64(45), object(5)\n",
      "memory usage: 85.7+ KB\n"
     ]
    }
   ],
   "source": [
    "#data selection \n",
    "coviddf = pd.read_csv('covid data.csv')\n",
    "coviddf = coviddf[coviddf['date'] == '31/10/2020']\n",
    "coviddf.info()"
   ]
  },
  {
   "cell_type": "code",
   "execution_count": 3,
   "metadata": {},
   "outputs": [
    {
     "data": {
      "text/html": [
       "<div>\n",
       "<style scoped>\n",
       "    .dataframe tbody tr th:only-of-type {\n",
       "        vertical-align: middle;\n",
       "    }\n",
       "\n",
       "    .dataframe tbody tr th {\n",
       "        vertical-align: top;\n",
       "    }\n",
       "\n",
       "    .dataframe thead th {\n",
       "        text-align: right;\n",
       "    }\n",
       "</style>\n",
       "<table border=\"1\" class=\"dataframe\">\n",
       "  <thead>\n",
       "    <tr style=\"text-align: right;\">\n",
       "      <th></th>\n",
       "      <th>iso_code</th>\n",
       "      <th>continent</th>\n",
       "      <th>location</th>\n",
       "      <th>date</th>\n",
       "      <th>total_cases</th>\n",
       "      <th>new_cases</th>\n",
       "      <th>new_cases_smoothed</th>\n",
       "      <th>total_deaths</th>\n",
       "      <th>new_deaths</th>\n",
       "      <th>new_deaths_smoothed</th>\n",
       "      <th>...</th>\n",
       "      <th>cardiovasc_death_rate</th>\n",
       "      <th>diabetes_prevalence</th>\n",
       "      <th>female_smokers</th>\n",
       "      <th>male_smokers</th>\n",
       "      <th>handwashing_facilities</th>\n",
       "      <th>hospital_beds_per_thousand</th>\n",
       "      <th>life_expectancy</th>\n",
       "      <th>human_development_index</th>\n",
       "      <th>Infection Rate %</th>\n",
       "      <th>Mortality Rate %</th>\n",
       "    </tr>\n",
       "  </thead>\n",
       "  <tbody>\n",
       "    <tr>\n",
       "      <th>227</th>\n",
       "      <td>ABW</td>\n",
       "      <td>North America</td>\n",
       "      <td>Aruba</td>\n",
       "      <td>31/10/2020</td>\n",
       "      <td>4472.0</td>\n",
       "      <td>17.0</td>\n",
       "      <td>10.143</td>\n",
       "      <td>37.0</td>\n",
       "      <td>0.0</td>\n",
       "      <td>0.143</td>\n",
       "      <td>...</td>\n",
       "      <td>NaN</td>\n",
       "      <td>11.62</td>\n",
       "      <td>NaN</td>\n",
       "      <td>NaN</td>\n",
       "      <td>NaN</td>\n",
       "      <td>NaN</td>\n",
       "      <td>76.29</td>\n",
       "      <td>NaN</td>\n",
       "      <td>4.188599</td>\n",
       "      <td>0.827370</td>\n",
       "    </tr>\n",
       "    <tr>\n",
       "      <th>562</th>\n",
       "      <td>AFG</td>\n",
       "      <td>Asia</td>\n",
       "      <td>Afghanistan</td>\n",
       "      <td>31/10/2020</td>\n",
       "      <td>41425.0</td>\n",
       "      <td>157.0</td>\n",
       "      <td>105.429</td>\n",
       "      <td>1536.0</td>\n",
       "      <td>4.0</td>\n",
       "      <td>4.143</td>\n",
       "      <td>...</td>\n",
       "      <td>597.029</td>\n",
       "      <td>9.59</td>\n",
       "      <td>NaN</td>\n",
       "      <td>NaN</td>\n",
       "      <td>37.746</td>\n",
       "      <td>0.500</td>\n",
       "      <td>64.83</td>\n",
       "      <td>0.498</td>\n",
       "      <td>0.106413</td>\n",
       "      <td>3.707906</td>\n",
       "    </tr>\n",
       "    <tr>\n",
       "      <th>815</th>\n",
       "      <td>AGO</td>\n",
       "      <td>Africa</td>\n",
       "      <td>Angola</td>\n",
       "      <td>31/10/2020</td>\n",
       "      <td>10269.0</td>\n",
       "      <td>195.0</td>\n",
       "      <td>241.000</td>\n",
       "      <td>275.0</td>\n",
       "      <td>0.0</td>\n",
       "      <td>2.143</td>\n",
       "      <td>...</td>\n",
       "      <td>276.045</td>\n",
       "      <td>3.94</td>\n",
       "      <td>NaN</td>\n",
       "      <td>NaN</td>\n",
       "      <td>26.664</td>\n",
       "      <td>NaN</td>\n",
       "      <td>61.15</td>\n",
       "      <td>0.581</td>\n",
       "      <td>0.031245</td>\n",
       "      <td>2.677963</td>\n",
       "    </tr>\n",
       "    <tr>\n",
       "      <th>1063</th>\n",
       "      <td>AIA</td>\n",
       "      <td>North America</td>\n",
       "      <td>Anguilla</td>\n",
       "      <td>31/10/2020</td>\n",
       "      <td>3.0</td>\n",
       "      <td>0.0</td>\n",
       "      <td>0.000</td>\n",
       "      <td>NaN</td>\n",
       "      <td>0.0</td>\n",
       "      <td>0.000</td>\n",
       "      <td>...</td>\n",
       "      <td>NaN</td>\n",
       "      <td>NaN</td>\n",
       "      <td>NaN</td>\n",
       "      <td>NaN</td>\n",
       "      <td>NaN</td>\n",
       "      <td>NaN</td>\n",
       "      <td>81.88</td>\n",
       "      <td>NaN</td>\n",
       "      <td>0.019997</td>\n",
       "      <td>NaN</td>\n",
       "    </tr>\n",
       "    <tr>\n",
       "      <th>1329</th>\n",
       "      <td>ALB</td>\n",
       "      <td>Europe</td>\n",
       "      <td>Albania</td>\n",
       "      <td>31/10/2020</td>\n",
       "      <td>20634.0</td>\n",
       "      <td>319.0</td>\n",
       "      <td>296.857</td>\n",
       "      <td>502.0</td>\n",
       "      <td>3.0</td>\n",
       "      <td>4.714</td>\n",
       "      <td>...</td>\n",
       "      <td>304.195</td>\n",
       "      <td>10.08</td>\n",
       "      <td>7.100</td>\n",
       "      <td>51.200</td>\n",
       "      <td>NaN</td>\n",
       "      <td>2.890</td>\n",
       "      <td>78.57</td>\n",
       "      <td>0.785</td>\n",
       "      <td>0.717006</td>\n",
       "      <td>2.432878</td>\n",
       "    </tr>\n",
       "    <tr>\n",
       "      <th>...</th>\n",
       "      <td>...</td>\n",
       "      <td>...</td>\n",
       "      <td>...</td>\n",
       "      <td>...</td>\n",
       "      <td>...</td>\n",
       "      <td>...</td>\n",
       "      <td>...</td>\n",
       "      <td>...</td>\n",
       "      <td>...</td>\n",
       "      <td>...</td>\n",
       "      <td>...</td>\n",
       "      <td>...</td>\n",
       "      <td>...</td>\n",
       "      <td>...</td>\n",
       "      <td>...</td>\n",
       "      <td>...</td>\n",
       "      <td>...</td>\n",
       "      <td>...</td>\n",
       "      <td>...</td>\n",
       "      <td>...</td>\n",
       "      <td>...</td>\n",
       "    </tr>\n",
       "    <tr>\n",
       "      <th>58762</th>\n",
       "      <td>ZAF</td>\n",
       "      <td>Africa</td>\n",
       "      <td>South Africa</td>\n",
       "      <td>31/10/2020</td>\n",
       "      <td>723682.0</td>\n",
       "      <td>1912.0</td>\n",
       "      <td>1610.000</td>\n",
       "      <td>19230.0</td>\n",
       "      <td>66.0</td>\n",
       "      <td>48.429</td>\n",
       "      <td>...</td>\n",
       "      <td>200.380</td>\n",
       "      <td>5.52</td>\n",
       "      <td>8.100</td>\n",
       "      <td>33.200</td>\n",
       "      <td>43.993</td>\n",
       "      <td>2.320</td>\n",
       "      <td>64.13</td>\n",
       "      <td>0.699</td>\n",
       "      <td>1.220196</td>\n",
       "      <td>2.657244</td>\n",
       "    </tr>\n",
       "    <tr>\n",
       "      <th>59018</th>\n",
       "      <td>ZMB</td>\n",
       "      <td>Africa</td>\n",
       "      <td>Zambia</td>\n",
       "      <td>31/10/2020</td>\n",
       "      <td>16415.0</td>\n",
       "      <td>90.0</td>\n",
       "      <td>45.714</td>\n",
       "      <td>349.0</td>\n",
       "      <td>1.0</td>\n",
       "      <td>0.429</td>\n",
       "      <td>...</td>\n",
       "      <td>234.499</td>\n",
       "      <td>3.94</td>\n",
       "      <td>3.100</td>\n",
       "      <td>24.700</td>\n",
       "      <td>13.938</td>\n",
       "      <td>2.000</td>\n",
       "      <td>63.89</td>\n",
       "      <td>0.588</td>\n",
       "      <td>0.089290</td>\n",
       "      <td>2.126104</td>\n",
       "    </tr>\n",
       "    <tr>\n",
       "      <th>59272</th>\n",
       "      <td>ZWE</td>\n",
       "      <td>Africa</td>\n",
       "      <td>Zimbabwe</td>\n",
       "      <td>31/10/2020</td>\n",
       "      <td>8362.0</td>\n",
       "      <td>13.0</td>\n",
       "      <td>15.000</td>\n",
       "      <td>242.0</td>\n",
       "      <td>0.0</td>\n",
       "      <td>0.857</td>\n",
       "      <td>...</td>\n",
       "      <td>307.846</td>\n",
       "      <td>1.82</td>\n",
       "      <td>1.600</td>\n",
       "      <td>30.700</td>\n",
       "      <td>36.791</td>\n",
       "      <td>1.700</td>\n",
       "      <td>61.49</td>\n",
       "      <td>0.535</td>\n",
       "      <td>0.056261</td>\n",
       "      <td>2.894044</td>\n",
       "    </tr>\n",
       "    <tr>\n",
       "      <th>59607</th>\n",
       "      <td>OWID_WRL</td>\n",
       "      <td>NaN</td>\n",
       "      <td>World</td>\n",
       "      <td>31/10/2020</td>\n",
       "      <td>45726736.0</td>\n",
       "      <td>542158.0</td>\n",
       "      <td>485363.857</td>\n",
       "      <td>1190157.0</td>\n",
       "      <td>7323.0</td>\n",
       "      <td>6388.429</td>\n",
       "      <td>...</td>\n",
       "      <td>233.070</td>\n",
       "      <td>8.51</td>\n",
       "      <td>6.434</td>\n",
       "      <td>34.635</td>\n",
       "      <td>60.130</td>\n",
       "      <td>2.705</td>\n",
       "      <td>72.58</td>\n",
       "      <td>NaN</td>\n",
       "      <td>0.586631</td>\n",
       "      <td>2.602760</td>\n",
       "    </tr>\n",
       "    <tr>\n",
       "      <th>59942</th>\n",
       "      <td>NaN</td>\n",
       "      <td>NaN</td>\n",
       "      <td>International</td>\n",
       "      <td>31/10/2020</td>\n",
       "      <td>696.0</td>\n",
       "      <td>NaN</td>\n",
       "      <td>NaN</td>\n",
       "      <td>7.0</td>\n",
       "      <td>NaN</td>\n",
       "      <td>NaN</td>\n",
       "      <td>...</td>\n",
       "      <td>NaN</td>\n",
       "      <td>NaN</td>\n",
       "      <td>NaN</td>\n",
       "      <td>NaN</td>\n",
       "      <td>NaN</td>\n",
       "      <td>NaN</td>\n",
       "      <td>NaN</td>\n",
       "      <td>NaN</td>\n",
       "      <td>NaN</td>\n",
       "      <td>1.005747</td>\n",
       "    </tr>\n",
       "  </tbody>\n",
       "</table>\n",
       "<p>215 rows × 52 columns</p>\n",
       "</div>"
      ],
      "text/plain": [
       "       iso_code      continent       location        date  total_cases  \\\n",
       "227         ABW  North America          Aruba  31/10/2020       4472.0   \n",
       "562         AFG           Asia    Afghanistan  31/10/2020      41425.0   \n",
       "815         AGO         Africa         Angola  31/10/2020      10269.0   \n",
       "1063        AIA  North America       Anguilla  31/10/2020          3.0   \n",
       "1329        ALB         Europe        Albania  31/10/2020      20634.0   \n",
       "...         ...            ...            ...         ...          ...   \n",
       "58762       ZAF         Africa   South Africa  31/10/2020     723682.0   \n",
       "59018       ZMB         Africa         Zambia  31/10/2020      16415.0   \n",
       "59272       ZWE         Africa       Zimbabwe  31/10/2020       8362.0   \n",
       "59607  OWID_WRL            NaN          World  31/10/2020   45726736.0   \n",
       "59942       NaN            NaN  International  31/10/2020        696.0   \n",
       "\n",
       "       new_cases  new_cases_smoothed  total_deaths  new_deaths  \\\n",
       "227         17.0              10.143          37.0         0.0   \n",
       "562        157.0             105.429        1536.0         4.0   \n",
       "815        195.0             241.000         275.0         0.0   \n",
       "1063         0.0               0.000           NaN         0.0   \n",
       "1329       319.0             296.857         502.0         3.0   \n",
       "...          ...                 ...           ...         ...   \n",
       "58762     1912.0            1610.000       19230.0        66.0   \n",
       "59018       90.0              45.714         349.0         1.0   \n",
       "59272       13.0              15.000         242.0         0.0   \n",
       "59607   542158.0          485363.857     1190157.0      7323.0   \n",
       "59942        NaN                 NaN           7.0         NaN   \n",
       "\n",
       "       new_deaths_smoothed  ...  cardiovasc_death_rate  diabetes_prevalence  \\\n",
       "227                  0.143  ...                    NaN                11.62   \n",
       "562                  4.143  ...                597.029                 9.59   \n",
       "815                  2.143  ...                276.045                 3.94   \n",
       "1063                 0.000  ...                    NaN                  NaN   \n",
       "1329                 4.714  ...                304.195                10.08   \n",
       "...                    ...  ...                    ...                  ...   \n",
       "58762               48.429  ...                200.380                 5.52   \n",
       "59018                0.429  ...                234.499                 3.94   \n",
       "59272                0.857  ...                307.846                 1.82   \n",
       "59607             6388.429  ...                233.070                 8.51   \n",
       "59942                  NaN  ...                    NaN                  NaN   \n",
       "\n",
       "       female_smokers  male_smokers  handwashing_facilities  \\\n",
       "227               NaN           NaN                     NaN   \n",
       "562               NaN           NaN                  37.746   \n",
       "815               NaN           NaN                  26.664   \n",
       "1063              NaN           NaN                     NaN   \n",
       "1329            7.100        51.200                     NaN   \n",
       "...               ...           ...                     ...   \n",
       "58762           8.100        33.200                  43.993   \n",
       "59018           3.100        24.700                  13.938   \n",
       "59272           1.600        30.700                  36.791   \n",
       "59607           6.434        34.635                  60.130   \n",
       "59942             NaN           NaN                     NaN   \n",
       "\n",
       "       hospital_beds_per_thousand  life_expectancy  human_development_index  \\\n",
       "227                           NaN            76.29                      NaN   \n",
       "562                         0.500            64.83                    0.498   \n",
       "815                           NaN            61.15                    0.581   \n",
       "1063                          NaN            81.88                      NaN   \n",
       "1329                        2.890            78.57                    0.785   \n",
       "...                           ...              ...                      ...   \n",
       "58762                       2.320            64.13                    0.699   \n",
       "59018                       2.000            63.89                    0.588   \n",
       "59272                       1.700            61.49                    0.535   \n",
       "59607                       2.705            72.58                      NaN   \n",
       "59942                         NaN              NaN                      NaN   \n",
       "\n",
       "       Infection Rate %  Mortality Rate %  \n",
       "227            4.188599          0.827370  \n",
       "562            0.106413          3.707906  \n",
       "815            0.031245          2.677963  \n",
       "1063           0.019997               NaN  \n",
       "1329           0.717006          2.432878  \n",
       "...                 ...               ...  \n",
       "58762          1.220196          2.657244  \n",
       "59018          0.089290          2.126104  \n",
       "59272          0.056261          2.894044  \n",
       "59607          0.586631          2.602760  \n",
       "59942               NaN          1.005747  \n",
       "\n",
       "[215 rows x 52 columns]"
      ]
     },
     "execution_count": 3,
     "metadata": {},
     "output_type": "execute_result"
    }
   ],
   "source": [
    "#adding the infection Rate\n",
    "\n",
    "coviddf['Infection Rate %'] = coviddf['total_cases']/ coviddf['population'] * 100\n",
    "coviddf['Mortality Rate %'] = coviddf['total_deaths'] /coviddf['total_cases'] * 100\n",
    "coviddf"
   ]
  },
  {
   "cell_type": "code",
   "execution_count": 4,
   "metadata": {},
   "outputs": [
    {
     "data": {
      "text/plain": [
       "227      False\n",
       "562      False\n",
       "815      False\n",
       "1063     False\n",
       "1329     False\n",
       "         ...  \n",
       "58762    False\n",
       "59018    False\n",
       "59272    False\n",
       "59607    False\n",
       "59942    False\n",
       "Length: 215, dtype: bool"
      ]
     },
     "execution_count": 4,
     "metadata": {},
     "output_type": "execute_result"
    }
   ],
   "source": [
    "coviddf1 = coviddf[['iso_code','location', 'Infection Rate %', 'Mortality Rate %', 'total_cases', 'total_deaths', 'gdp_per_capita', 'population_density', 'continent']]\n",
    "\n",
    "#check if any of the values duplicated\n",
    "coviddf1.duplicated()\n"
   ]
  },
  {
   "cell_type": "code",
   "execution_count": 5,
   "metadata": {},
   "outputs": [],
   "source": [
    "#rename the index using list comprehension\n",
    "#renaming the columns\n",
    "idx = [i for i in range(len(coviddf1))]\n",
    "coviddf1.index = idx\n",
    "coviddf1 = coviddf1.rename(columns = {'gdp_per_capita' : 'GDP per Capita', 'iso_code': \"ISO\", 'location' : 'Country', 'total_cases' : 'Total Cases'})\n",
    "coviddf1 = coviddf1.rename(columns = {'total_deaths': 'Total Deaths', 'population_density' : 'Population Density', 'population': 'Population', 'continent': 'Continent'})"
   ]
  },
  {
   "cell_type": "code",
   "execution_count": 6,
   "metadata": {},
   "outputs": [
    {
     "data": {
      "text/plain": [
       "ISO                    0\n",
       "Country                0\n",
       "Infection Rate %       0\n",
       "Mortality Rate %       0\n",
       "Total Cases            0\n",
       "Total Deaths           0\n",
       "GDP per Capita        20\n",
       "Population Density     8\n",
       "Continent              1\n",
       "dtype: int64"
      ]
     },
     "execution_count": 6,
     "metadata": {},
     "output_type": "execute_result"
    }
   ],
   "source": [
    "coviddf1 = coviddf1[coviddf1['Mortality Rate %'].notna()]\n",
    "coviddf1 = coviddf1[coviddf1['Infection Rate %'].notna()]\n",
    "coviddf1.isnull().sum()"
   ]
  },
  {
   "cell_type": "code",
   "execution_count": 7,
   "metadata": {},
   "outputs": [
    {
     "data": {
      "text/html": [
       "<div>\n",
       "<style scoped>\n",
       "    .dataframe tbody tr th:only-of-type {\n",
       "        vertical-align: middle;\n",
       "    }\n",
       "\n",
       "    .dataframe tbody tr th {\n",
       "        vertical-align: top;\n",
       "    }\n",
       "\n",
       "    .dataframe thead th {\n",
       "        text-align: right;\n",
       "    }\n",
       "</style>\n",
       "<table border=\"1\" class=\"dataframe\">\n",
       "  <thead>\n",
       "    <tr style=\"text-align: right;\">\n",
       "      <th></th>\n",
       "      <th>Country Name</th>\n",
       "      <th>Country Code</th>\n",
       "      <th>Indicator Name</th>\n",
       "      <th>Indicator Code</th>\n",
       "      <th>1960</th>\n",
       "      <th>1961</th>\n",
       "      <th>1962</th>\n",
       "      <th>1963</th>\n",
       "      <th>1964</th>\n",
       "      <th>1965</th>\n",
       "      <th>...</th>\n",
       "      <th>2010</th>\n",
       "      <th>2011</th>\n",
       "      <th>2012</th>\n",
       "      <th>2013</th>\n",
       "      <th>2014</th>\n",
       "      <th>2015</th>\n",
       "      <th>2016</th>\n",
       "      <th>2017</th>\n",
       "      <th>2018</th>\n",
       "      <th>Most Recent Gini Index</th>\n",
       "    </tr>\n",
       "  </thead>\n",
       "  <tbody>\n",
       "    <tr>\n",
       "      <th>0</th>\n",
       "      <td>Aruba</td>\n",
       "      <td>ABW</td>\n",
       "      <td>Gini index (World Bank estimate)</td>\n",
       "      <td>SI.POV.GINI</td>\n",
       "      <td>NaN</td>\n",
       "      <td>NaN</td>\n",
       "      <td>NaN</td>\n",
       "      <td>NaN</td>\n",
       "      <td>NaN</td>\n",
       "      <td>NaN</td>\n",
       "      <td>...</td>\n",
       "      <td>NaN</td>\n",
       "      <td>NaN</td>\n",
       "      <td>NaN</td>\n",
       "      <td>NaN</td>\n",
       "      <td>NaN</td>\n",
       "      <td>NaN</td>\n",
       "      <td>NaN</td>\n",
       "      <td>NaN</td>\n",
       "      <td>NaN</td>\n",
       "      <td>NaN</td>\n",
       "    </tr>\n",
       "    <tr>\n",
       "      <th>1</th>\n",
       "      <td>Afghanistan</td>\n",
       "      <td>AFG</td>\n",
       "      <td>Gini index (World Bank estimate)</td>\n",
       "      <td>SI.POV.GINI</td>\n",
       "      <td>NaN</td>\n",
       "      <td>NaN</td>\n",
       "      <td>NaN</td>\n",
       "      <td>NaN</td>\n",
       "      <td>NaN</td>\n",
       "      <td>NaN</td>\n",
       "      <td>...</td>\n",
       "      <td>NaN</td>\n",
       "      <td>NaN</td>\n",
       "      <td>NaN</td>\n",
       "      <td>NaN</td>\n",
       "      <td>NaN</td>\n",
       "      <td>NaN</td>\n",
       "      <td>NaN</td>\n",
       "      <td>NaN</td>\n",
       "      <td>NaN</td>\n",
       "      <td>NaN</td>\n",
       "    </tr>\n",
       "    <tr>\n",
       "      <th>2</th>\n",
       "      <td>Angola</td>\n",
       "      <td>AGO</td>\n",
       "      <td>Gini index (World Bank estimate)</td>\n",
       "      <td>SI.POV.GINI</td>\n",
       "      <td>NaN</td>\n",
       "      <td>NaN</td>\n",
       "      <td>NaN</td>\n",
       "      <td>NaN</td>\n",
       "      <td>NaN</td>\n",
       "      <td>NaN</td>\n",
       "      <td>...</td>\n",
       "      <td>NaN</td>\n",
       "      <td>NaN</td>\n",
       "      <td>NaN</td>\n",
       "      <td>NaN</td>\n",
       "      <td>NaN</td>\n",
       "      <td>NaN</td>\n",
       "      <td>NaN</td>\n",
       "      <td>NaN</td>\n",
       "      <td>51.3</td>\n",
       "      <td>51.3</td>\n",
       "    </tr>\n",
       "    <tr>\n",
       "      <th>3</th>\n",
       "      <td>Albania</td>\n",
       "      <td>ALB</td>\n",
       "      <td>Gini index (World Bank estimate)</td>\n",
       "      <td>SI.POV.GINI</td>\n",
       "      <td>NaN</td>\n",
       "      <td>NaN</td>\n",
       "      <td>NaN</td>\n",
       "      <td>NaN</td>\n",
       "      <td>NaN</td>\n",
       "      <td>NaN</td>\n",
       "      <td>...</td>\n",
       "      <td>NaN</td>\n",
       "      <td>NaN</td>\n",
       "      <td>29.0</td>\n",
       "      <td>NaN</td>\n",
       "      <td>34.6</td>\n",
       "      <td>32.9</td>\n",
       "      <td>33.7</td>\n",
       "      <td>33.2</td>\n",
       "      <td>NaN</td>\n",
       "      <td>33.2</td>\n",
       "    </tr>\n",
       "    <tr>\n",
       "      <th>4</th>\n",
       "      <td>Andorra</td>\n",
       "      <td>AND</td>\n",
       "      <td>Gini index (World Bank estimate)</td>\n",
       "      <td>SI.POV.GINI</td>\n",
       "      <td>NaN</td>\n",
       "      <td>NaN</td>\n",
       "      <td>NaN</td>\n",
       "      <td>NaN</td>\n",
       "      <td>NaN</td>\n",
       "      <td>NaN</td>\n",
       "      <td>...</td>\n",
       "      <td>NaN</td>\n",
       "      <td>NaN</td>\n",
       "      <td>NaN</td>\n",
       "      <td>NaN</td>\n",
       "      <td>NaN</td>\n",
       "      <td>NaN</td>\n",
       "      <td>NaN</td>\n",
       "      <td>NaN</td>\n",
       "      <td>NaN</td>\n",
       "      <td>NaN</td>\n",
       "    </tr>\n",
       "  </tbody>\n",
       "</table>\n",
       "<p>5 rows × 64 columns</p>\n",
       "</div>"
      ],
      "text/plain": [
       "  Country Name Country Code                    Indicator Name Indicator Code  \\\n",
       "0        Aruba          ABW  Gini index (World Bank estimate)    SI.POV.GINI   \n",
       "1  Afghanistan          AFG  Gini index (World Bank estimate)    SI.POV.GINI   \n",
       "2       Angola          AGO  Gini index (World Bank estimate)    SI.POV.GINI   \n",
       "3      Albania          ALB  Gini index (World Bank estimate)    SI.POV.GINI   \n",
       "4      Andorra          AND  Gini index (World Bank estimate)    SI.POV.GINI   \n",
       "\n",
       "   1960  1961  1962  1963  1964  1965  ...  2010  2011  2012  2013  2014  \\\n",
       "0   NaN   NaN   NaN   NaN   NaN   NaN  ...   NaN   NaN   NaN   NaN   NaN   \n",
       "1   NaN   NaN   NaN   NaN   NaN   NaN  ...   NaN   NaN   NaN   NaN   NaN   \n",
       "2   NaN   NaN   NaN   NaN   NaN   NaN  ...   NaN   NaN   NaN   NaN   NaN   \n",
       "3   NaN   NaN   NaN   NaN   NaN   NaN  ...   NaN   NaN  29.0   NaN  34.6   \n",
       "4   NaN   NaN   NaN   NaN   NaN   NaN  ...   NaN   NaN   NaN   NaN   NaN   \n",
       "\n",
       "   2015  2016  2017  2018  Most Recent Gini Index  \n",
       "0   NaN   NaN   NaN   NaN                     NaN  \n",
       "1   NaN   NaN   NaN   NaN                     NaN  \n",
       "2   NaN   NaN   NaN  51.3                    51.3  \n",
       "3  32.9  33.7  33.2   NaN                    33.2  \n",
       "4   NaN   NaN   NaN   NaN                     NaN  \n",
       "\n",
       "[5 rows x 64 columns]"
      ]
     },
     "execution_count": 7,
     "metadata": {},
     "output_type": "execute_result"
    }
   ],
   "source": [
    "#preparing poverty dataframe\n",
    "povertydf = pd.read_csv('GiniIndex.csv')\n",
    "povertydf.head(5)"
   ]
  },
  {
   "cell_type": "code",
   "execution_count": 8,
   "metadata": {},
   "outputs": [
    {
     "name": "stdout",
     "output_type": "stream",
     "text": [
      "<class 'pandas.core.frame.DataFrame'>\n",
      "Int64Index: 109 entries, 2 to 263\n",
      "Data columns (total 2 columns):\n",
      " #   Column                  Non-Null Count  Dtype  \n",
      "---  ------                  --------------  -----  \n",
      " 0   ISO                     109 non-null    object \n",
      " 1   Most Recent Gini Index  109 non-null    float64\n",
      "dtypes: float64(1), object(1)\n",
      "memory usage: 2.6+ KB\n"
     ]
    }
   ],
   "source": [
    "povertydf = povertydf[['Country Code', 'Most Recent Gini Index']]\n",
    "col = povertydf.loc[: , \"Most Recent Gini Index\"]\n",
    "\n",
    "povertydf = povertydf[povertydf['Most Recent Gini Index'].notna()]\n",
    "povertydf = povertydf.rename(columns = {'Country Code':'ISO'})\n",
    "povertydf.info()"
   ]
  },
  {
   "cell_type": "code",
   "execution_count": 9,
   "metadata": {},
   "outputs": [
    {
     "data": {
      "text/html": [
       "<div>\n",
       "<style scoped>\n",
       "    .dataframe tbody tr th:only-of-type {\n",
       "        vertical-align: middle;\n",
       "    }\n",
       "\n",
       "    .dataframe tbody tr th {\n",
       "        vertical-align: top;\n",
       "    }\n",
       "\n",
       "    .dataframe thead th {\n",
       "        text-align: right;\n",
       "    }\n",
       "</style>\n",
       "<table border=\"1\" class=\"dataframe\">\n",
       "  <thead>\n",
       "    <tr style=\"text-align: right;\">\n",
       "      <th></th>\n",
       "      <th>ISO</th>\n",
       "      <th>Country</th>\n",
       "      <th>Infection Rate %</th>\n",
       "      <th>Mortality Rate %</th>\n",
       "      <th>Total Cases</th>\n",
       "      <th>Total Deaths</th>\n",
       "      <th>GDP per Capita</th>\n",
       "      <th>Population Density</th>\n",
       "      <th>Continent</th>\n",
       "      <th>Most Recent Gini Index</th>\n",
       "    </tr>\n",
       "  </thead>\n",
       "  <tbody>\n",
       "    <tr>\n",
       "      <th>0</th>\n",
       "      <td>ABW</td>\n",
       "      <td>Aruba</td>\n",
       "      <td>4.188599</td>\n",
       "      <td>0.827370</td>\n",
       "      <td>4472.0</td>\n",
       "      <td>37.0</td>\n",
       "      <td>35973.781</td>\n",
       "      <td>584.800</td>\n",
       "      <td>North America</td>\n",
       "      <td>NaN</td>\n",
       "    </tr>\n",
       "    <tr>\n",
       "      <th>1</th>\n",
       "      <td>AFG</td>\n",
       "      <td>Afghanistan</td>\n",
       "      <td>0.106413</td>\n",
       "      <td>3.707906</td>\n",
       "      <td>41425.0</td>\n",
       "      <td>1536.0</td>\n",
       "      <td>1803.987</td>\n",
       "      <td>54.422</td>\n",
       "      <td>Asia</td>\n",
       "      <td>NaN</td>\n",
       "    </tr>\n",
       "    <tr>\n",
       "      <th>2</th>\n",
       "      <td>AGO</td>\n",
       "      <td>Angola</td>\n",
       "      <td>0.031245</td>\n",
       "      <td>2.677963</td>\n",
       "      <td>10269.0</td>\n",
       "      <td>275.0</td>\n",
       "      <td>5819.495</td>\n",
       "      <td>23.890</td>\n",
       "      <td>Africa</td>\n",
       "      <td>51.3</td>\n",
       "    </tr>\n",
       "    <tr>\n",
       "      <th>3</th>\n",
       "      <td>ALB</td>\n",
       "      <td>Albania</td>\n",
       "      <td>0.717006</td>\n",
       "      <td>2.432878</td>\n",
       "      <td>20634.0</td>\n",
       "      <td>502.0</td>\n",
       "      <td>11803.431</td>\n",
       "      <td>104.871</td>\n",
       "      <td>Europe</td>\n",
       "      <td>33.2</td>\n",
       "    </tr>\n",
       "    <tr>\n",
       "      <th>4</th>\n",
       "      <td>AND</td>\n",
       "      <td>Andorra</td>\n",
       "      <td>6.037663</td>\n",
       "      <td>1.607717</td>\n",
       "      <td>4665.0</td>\n",
       "      <td>75.0</td>\n",
       "      <td>NaN</td>\n",
       "      <td>163.755</td>\n",
       "      <td>Europe</td>\n",
       "      <td>NaN</td>\n",
       "    </tr>\n",
       "    <tr>\n",
       "      <th>...</th>\n",
       "      <td>...</td>\n",
       "      <td>...</td>\n",
       "      <td>...</td>\n",
       "      <td>...</td>\n",
       "      <td>...</td>\n",
       "      <td>...</td>\n",
       "      <td>...</td>\n",
       "      <td>...</td>\n",
       "      <td>...</td>\n",
       "      <td>...</td>\n",
       "    </tr>\n",
       "    <tr>\n",
       "      <th>186</th>\n",
       "      <td>YEM</td>\n",
       "      <td>Yemen</td>\n",
       "      <td>0.006917</td>\n",
       "      <td>29.083858</td>\n",
       "      <td>2063.0</td>\n",
       "      <td>600.0</td>\n",
       "      <td>1479.147</td>\n",
       "      <td>53.508</td>\n",
       "      <td>Asia</td>\n",
       "      <td>NaN</td>\n",
       "    </tr>\n",
       "    <tr>\n",
       "      <th>187</th>\n",
       "      <td>ZAF</td>\n",
       "      <td>South Africa</td>\n",
       "      <td>1.220196</td>\n",
       "      <td>2.657244</td>\n",
       "      <td>723682.0</td>\n",
       "      <td>19230.0</td>\n",
       "      <td>12294.876</td>\n",
       "      <td>46.754</td>\n",
       "      <td>Africa</td>\n",
       "      <td>NaN</td>\n",
       "    </tr>\n",
       "    <tr>\n",
       "      <th>188</th>\n",
       "      <td>ZMB</td>\n",
       "      <td>Zambia</td>\n",
       "      <td>0.089290</td>\n",
       "      <td>2.126104</td>\n",
       "      <td>16415.0</td>\n",
       "      <td>349.0</td>\n",
       "      <td>3689.251</td>\n",
       "      <td>22.995</td>\n",
       "      <td>Africa</td>\n",
       "      <td>57.1</td>\n",
       "    </tr>\n",
       "    <tr>\n",
       "      <th>189</th>\n",
       "      <td>ZWE</td>\n",
       "      <td>Zimbabwe</td>\n",
       "      <td>0.056261</td>\n",
       "      <td>2.894044</td>\n",
       "      <td>8362.0</td>\n",
       "      <td>242.0</td>\n",
       "      <td>1899.775</td>\n",
       "      <td>42.729</td>\n",
       "      <td>Africa</td>\n",
       "      <td>44.3</td>\n",
       "    </tr>\n",
       "    <tr>\n",
       "      <th>190</th>\n",
       "      <td>OWID_WRL</td>\n",
       "      <td>World</td>\n",
       "      <td>0.586631</td>\n",
       "      <td>2.602760</td>\n",
       "      <td>45726736.0</td>\n",
       "      <td>1190157.0</td>\n",
       "      <td>15469.207</td>\n",
       "      <td>58.045</td>\n",
       "      <td>NaN</td>\n",
       "      <td>NaN</td>\n",
       "    </tr>\n",
       "  </tbody>\n",
       "</table>\n",
       "<p>191 rows × 10 columns</p>\n",
       "</div>"
      ],
      "text/plain": [
       "          ISO       Country  Infection Rate %  Mortality Rate %  Total Cases  \\\n",
       "0         ABW         Aruba          4.188599          0.827370       4472.0   \n",
       "1         AFG   Afghanistan          0.106413          3.707906      41425.0   \n",
       "2         AGO        Angola          0.031245          2.677963      10269.0   \n",
       "3         ALB       Albania          0.717006          2.432878      20634.0   \n",
       "4         AND       Andorra          6.037663          1.607717       4665.0   \n",
       "..        ...           ...               ...               ...          ...   \n",
       "186       YEM         Yemen          0.006917         29.083858       2063.0   \n",
       "187       ZAF  South Africa          1.220196          2.657244     723682.0   \n",
       "188       ZMB        Zambia          0.089290          2.126104      16415.0   \n",
       "189       ZWE      Zimbabwe          0.056261          2.894044       8362.0   \n",
       "190  OWID_WRL         World          0.586631          2.602760   45726736.0   \n",
       "\n",
       "     Total Deaths  GDP per Capita  Population Density      Continent  \\\n",
       "0            37.0       35973.781             584.800  North America   \n",
       "1          1536.0        1803.987              54.422           Asia   \n",
       "2           275.0        5819.495              23.890         Africa   \n",
       "3           502.0       11803.431             104.871         Europe   \n",
       "4            75.0             NaN             163.755         Europe   \n",
       "..            ...             ...                 ...            ...   \n",
       "186         600.0        1479.147              53.508           Asia   \n",
       "187       19230.0       12294.876              46.754         Africa   \n",
       "188         349.0        3689.251              22.995         Africa   \n",
       "189         242.0        1899.775              42.729         Africa   \n",
       "190     1190157.0       15469.207              58.045            NaN   \n",
       "\n",
       "     Most Recent Gini Index  \n",
       "0                       NaN  \n",
       "1                       NaN  \n",
       "2                      51.3  \n",
       "3                      33.2  \n",
       "4                       NaN  \n",
       "..                      ...  \n",
       "186                     NaN  \n",
       "187                     NaN  \n",
       "188                    57.1  \n",
       "189                    44.3  \n",
       "190                     NaN  \n",
       "\n",
       "[191 rows x 10 columns]"
      ]
     },
     "execution_count": 9,
     "metadata": {},
     "output_type": "execute_result"
    }
   ],
   "source": [
    "#left join \n",
    "df = pd.merge(left=coviddf1, right=povertydf, how = 'left', left_on='ISO', right_on='ISO')\n",
    "df"
   ]
  },
  {
   "cell_type": "code",
   "execution_count": 10,
   "metadata": {},
   "outputs": [
    {
     "data": {
      "text/html": [
       "<div>\n",
       "<style scoped>\n",
       "    .dataframe tbody tr th:only-of-type {\n",
       "        vertical-align: middle;\n",
       "    }\n",
       "\n",
       "    .dataframe tbody tr th {\n",
       "        vertical-align: top;\n",
       "    }\n",
       "\n",
       "    .dataframe thead th {\n",
       "        text-align: right;\n",
       "    }\n",
       "</style>\n",
       "<table border=\"1\" class=\"dataframe\">\n",
       "  <thead>\n",
       "    <tr style=\"text-align: right;\">\n",
       "      <th></th>\n",
       "      <th>ISO</th>\n",
       "      <th>Proportion of Internet Users in the Population in 2017</th>\n",
       "    </tr>\n",
       "  </thead>\n",
       "  <tbody>\n",
       "    <tr>\n",
       "      <th>0</th>\n",
       "      <td>ABW</td>\n",
       "      <td>0.971700</td>\n",
       "    </tr>\n",
       "    <tr>\n",
       "      <th>1</th>\n",
       "      <td>AFG</td>\n",
       "      <td>0.114477</td>\n",
       "    </tr>\n",
       "    <tr>\n",
       "      <th>2</th>\n",
       "      <td>AGO</td>\n",
       "      <td>0.143391</td>\n",
       "    </tr>\n",
       "    <tr>\n",
       "      <th>3</th>\n",
       "      <td>ALB</td>\n",
       "      <td>0.718470</td>\n",
       "    </tr>\n",
       "    <tr>\n",
       "      <th>4</th>\n",
       "      <td>AND</td>\n",
       "      <td>0.915675</td>\n",
       "    </tr>\n",
       "    <tr>\n",
       "      <th>...</th>\n",
       "      <td>...</td>\n",
       "      <td>...</td>\n",
       "    </tr>\n",
       "    <tr>\n",
       "      <th>259</th>\n",
       "      <td>XKX</td>\n",
       "      <td>0.838936</td>\n",
       "    </tr>\n",
       "    <tr>\n",
       "      <th>260</th>\n",
       "      <td>YEM</td>\n",
       "      <td>0.267184</td>\n",
       "    </tr>\n",
       "    <tr>\n",
       "      <th>261</th>\n",
       "      <td>ZAF</td>\n",
       "      <td>0.561674</td>\n",
       "    </tr>\n",
       "    <tr>\n",
       "      <th>262</th>\n",
       "      <td>ZMB</td>\n",
       "      <td>0.278526</td>\n",
       "    </tr>\n",
       "    <tr>\n",
       "      <th>263</th>\n",
       "      <td>ZWE</td>\n",
       "      <td>0.270555</td>\n",
       "    </tr>\n",
       "  </tbody>\n",
       "</table>\n",
       "<p>264 rows × 2 columns</p>\n",
       "</div>"
      ],
      "text/plain": [
       "     ISO  Proportion of Internet Users in the Population in 2017\n",
       "0    ABW                                           0.971700     \n",
       "1    AFG                                           0.114477     \n",
       "2    AGO                                           0.143391     \n",
       "3    ALB                                           0.718470     \n",
       "4    AND                                           0.915675     \n",
       "..   ...                                                ...     \n",
       "259  XKX                                           0.838936     \n",
       "260  YEM                                           0.267184     \n",
       "261  ZAF                                           0.561674     \n",
       "262  ZMB                                           0.278526     \n",
       "263  ZWE                                           0.270555     \n",
       "\n",
       "[264 rows x 2 columns]"
      ]
     },
     "execution_count": 10,
     "metadata": {},
     "output_type": "execute_result"
    }
   ],
   "source": [
    "#preparing the internet dataframe\n",
    "internetdf = pd.read_csv('Internet.csv')\n",
    "internetdf = internetdf[['ISO CODE', '2017']]\n",
    "col = internetdf.loc[: , \"2017\"]\n",
    "internetdf['Proportion of Internet Users in the Population in 2017'] = col/100\n",
    "internetdf = internetdf.rename(columns = {'ISO CODE' : 'ISO'})\n",
    "internetdf = internetdf.drop(columns = '2017')\n",
    "internetdf"
   ]
  },
  {
   "cell_type": "code",
   "execution_count": 11,
   "metadata": {
    "scrolled": true
   },
   "outputs": [
    {
     "data": {
      "text/plain": [
       "ISO                                                        0\n",
       "Country                                                    0\n",
       "Infection Rate %                                           0\n",
       "Mortality Rate %                                           0\n",
       "Total Cases                                                0\n",
       "Total Deaths                                               0\n",
       "GDP per Capita                                            20\n",
       "Population Density                                         8\n",
       "Continent                                                  1\n",
       "Most Recent Gini Index                                    87\n",
       "Proportion of Internet Users in the Population in 2017    16\n",
       "dtype: int64"
      ]
     },
     "execution_count": 11,
     "metadata": {},
     "output_type": "execute_result"
    }
   ],
   "source": [
    "#left join with the covidfdf1 and internet df\n",
    "df = pd.merge(left=df, right=internetdf, how = 'left', left_on='ISO', right_on='ISO')\n",
    "df.isnull().sum()\n"
   ]
  },
  {
   "cell_type": "code",
   "execution_count": 12,
   "metadata": {
    "scrolled": false
   },
   "outputs": [
    {
     "data": {
      "text/html": [
       "<div>\n",
       "<style scoped>\n",
       "    .dataframe tbody tr th:only-of-type {\n",
       "        vertical-align: middle;\n",
       "    }\n",
       "\n",
       "    .dataframe tbody tr th {\n",
       "        vertical-align: top;\n",
       "    }\n",
       "\n",
       "    .dataframe thead th {\n",
       "        text-align: right;\n",
       "    }\n",
       "</style>\n",
       "<table border=\"1\" class=\"dataframe\">\n",
       "  <thead>\n",
       "    <tr style=\"text-align: right;\">\n",
       "      <th></th>\n",
       "      <th>ISO</th>\n",
       "      <th>Country</th>\n",
       "      <th>Infection Rate %</th>\n",
       "      <th>Mortality Rate %</th>\n",
       "      <th>Total Cases</th>\n",
       "      <th>Total Deaths</th>\n",
       "      <th>GDP per Capita</th>\n",
       "      <th>Population Density</th>\n",
       "      <th>Continent</th>\n",
       "      <th>Most Recent Gini Index</th>\n",
       "      <th>Proportion of Internet Users in the Population in 2017</th>\n",
       "    </tr>\n",
       "  </thead>\n",
       "  <tbody>\n",
       "    <tr>\n",
       "      <th>181</th>\n",
       "      <td>VEN</td>\n",
       "      <td>Venezuela</td>\n",
       "      <td>0.322089</td>\n",
       "      <td>0.865824</td>\n",
       "      <td>91589.0</td>\n",
       "      <td>793.0</td>\n",
       "      <td>16745.022</td>\n",
       "      <td>36.253</td>\n",
       "      <td>South America</td>\n",
       "      <td>NaN</td>\n",
       "      <td>0.643134</td>\n",
       "    </tr>\n",
       "    <tr>\n",
       "      <th>182</th>\n",
       "      <td>VGB</td>\n",
       "      <td>British Virgin Islands</td>\n",
       "      <td>0.238119</td>\n",
       "      <td>1.388889</td>\n",
       "      <td>72.0</td>\n",
       "      <td>1.0</td>\n",
       "      <td>NaN</td>\n",
       "      <td>207.973</td>\n",
       "      <td>North America</td>\n",
       "      <td>NaN</td>\n",
       "      <td>0.777043</td>\n",
       "    </tr>\n",
       "    <tr>\n",
       "      <th>183</th>\n",
       "      <td>VIR</td>\n",
       "      <td>United States Virgin Islands</td>\n",
       "      <td>1.304310</td>\n",
       "      <td>1.541850</td>\n",
       "      <td>1362.0</td>\n",
       "      <td>21.0</td>\n",
       "      <td>NaN</td>\n",
       "      <td>306.480</td>\n",
       "      <td>North America</td>\n",
       "      <td>NaN</td>\n",
       "      <td>0.643775</td>\n",
       "    </tr>\n",
       "    <tr>\n",
       "      <th>184</th>\n",
       "      <td>VNM</td>\n",
       "      <td>Vietnam</td>\n",
       "      <td>0.001209</td>\n",
       "      <td>2.973662</td>\n",
       "      <td>1177.0</td>\n",
       "      <td>35.0</td>\n",
       "      <td>6171.884</td>\n",
       "      <td>308.127</td>\n",
       "      <td>Asia</td>\n",
       "      <td>35.7</td>\n",
       "      <td>0.581400</td>\n",
       "    </tr>\n",
       "    <tr>\n",
       "      <th>185</th>\n",
       "      <td>OWID_KOS</td>\n",
       "      <td>Kosovo</td>\n",
       "      <td>1.000013</td>\n",
       "      <td>3.507864</td>\n",
       "      <td>19328.0</td>\n",
       "      <td>678.0</td>\n",
       "      <td>9795.834</td>\n",
       "      <td>168.155</td>\n",
       "      <td>Europe</td>\n",
       "      <td>NaN</td>\n",
       "      <td>NaN</td>\n",
       "    </tr>\n",
       "    <tr>\n",
       "      <th>186</th>\n",
       "      <td>YEM</td>\n",
       "      <td>Yemen</td>\n",
       "      <td>0.006917</td>\n",
       "      <td>29.083858</td>\n",
       "      <td>2063.0</td>\n",
       "      <td>600.0</td>\n",
       "      <td>1479.147</td>\n",
       "      <td>53.508</td>\n",
       "      <td>Asia</td>\n",
       "      <td>NaN</td>\n",
       "      <td>0.267184</td>\n",
       "    </tr>\n",
       "    <tr>\n",
       "      <th>187</th>\n",
       "      <td>ZAF</td>\n",
       "      <td>South Africa</td>\n",
       "      <td>1.220196</td>\n",
       "      <td>2.657244</td>\n",
       "      <td>723682.0</td>\n",
       "      <td>19230.0</td>\n",
       "      <td>12294.876</td>\n",
       "      <td>46.754</td>\n",
       "      <td>Africa</td>\n",
       "      <td>NaN</td>\n",
       "      <td>0.561674</td>\n",
       "    </tr>\n",
       "    <tr>\n",
       "      <th>188</th>\n",
       "      <td>ZMB</td>\n",
       "      <td>Zambia</td>\n",
       "      <td>0.089290</td>\n",
       "      <td>2.126104</td>\n",
       "      <td>16415.0</td>\n",
       "      <td>349.0</td>\n",
       "      <td>3689.251</td>\n",
       "      <td>22.995</td>\n",
       "      <td>Africa</td>\n",
       "      <td>57.1</td>\n",
       "      <td>0.278526</td>\n",
       "    </tr>\n",
       "    <tr>\n",
       "      <th>189</th>\n",
       "      <td>ZWE</td>\n",
       "      <td>Zimbabwe</td>\n",
       "      <td>0.056261</td>\n",
       "      <td>2.894044</td>\n",
       "      <td>8362.0</td>\n",
       "      <td>242.0</td>\n",
       "      <td>1899.775</td>\n",
       "      <td>42.729</td>\n",
       "      <td>Africa</td>\n",
       "      <td>44.3</td>\n",
       "      <td>0.270555</td>\n",
       "    </tr>\n",
       "    <tr>\n",
       "      <th>190</th>\n",
       "      <td>OWID_WRL</td>\n",
       "      <td>World</td>\n",
       "      <td>0.586631</td>\n",
       "      <td>2.602760</td>\n",
       "      <td>45726736.0</td>\n",
       "      <td>1190157.0</td>\n",
       "      <td>15469.207</td>\n",
       "      <td>58.045</td>\n",
       "      <td>NaN</td>\n",
       "      <td>NaN</td>\n",
       "      <td>NaN</td>\n",
       "    </tr>\n",
       "  </tbody>\n",
       "</table>\n",
       "</div>"
      ],
      "text/plain": [
       "          ISO                       Country  Infection Rate %  \\\n",
       "181       VEN                     Venezuela          0.322089   \n",
       "182       VGB        British Virgin Islands          0.238119   \n",
       "183       VIR  United States Virgin Islands          1.304310   \n",
       "184       VNM                       Vietnam          0.001209   \n",
       "185  OWID_KOS                        Kosovo          1.000013   \n",
       "186       YEM                         Yemen          0.006917   \n",
       "187       ZAF                  South Africa          1.220196   \n",
       "188       ZMB                        Zambia          0.089290   \n",
       "189       ZWE                      Zimbabwe          0.056261   \n",
       "190  OWID_WRL                         World          0.586631   \n",
       "\n",
       "     Mortality Rate %  Total Cases  Total Deaths  GDP per Capita  \\\n",
       "181          0.865824      91589.0         793.0       16745.022   \n",
       "182          1.388889         72.0           1.0             NaN   \n",
       "183          1.541850       1362.0          21.0             NaN   \n",
       "184          2.973662       1177.0          35.0        6171.884   \n",
       "185          3.507864      19328.0         678.0        9795.834   \n",
       "186         29.083858       2063.0         600.0        1479.147   \n",
       "187          2.657244     723682.0       19230.0       12294.876   \n",
       "188          2.126104      16415.0         349.0        3689.251   \n",
       "189          2.894044       8362.0         242.0        1899.775   \n",
       "190          2.602760   45726736.0     1190157.0       15469.207   \n",
       "\n",
       "     Population Density      Continent  Most Recent Gini Index  \\\n",
       "181              36.253  South America                     NaN   \n",
       "182             207.973  North America                     NaN   \n",
       "183             306.480  North America                     NaN   \n",
       "184             308.127           Asia                    35.7   \n",
       "185             168.155         Europe                     NaN   \n",
       "186              53.508           Asia                     NaN   \n",
       "187              46.754         Africa                     NaN   \n",
       "188              22.995         Africa                    57.1   \n",
       "189              42.729         Africa                    44.3   \n",
       "190              58.045            NaN                     NaN   \n",
       "\n",
       "     Proportion of Internet Users in the Population in 2017  \n",
       "181                                           0.643134       \n",
       "182                                           0.777043       \n",
       "183                                           0.643775       \n",
       "184                                           0.581400       \n",
       "185                                                NaN       \n",
       "186                                           0.267184       \n",
       "187                                           0.561674       \n",
       "188                                           0.278526       \n",
       "189                                           0.270555       \n",
       "190                                                NaN       "
      ]
     },
     "execution_count": 12,
     "metadata": {},
     "output_type": "execute_result"
    }
   ],
   "source": [
    "df.tail(10)"
   ]
  },
  {
   "cell_type": "code",
   "execution_count": 13,
   "metadata": {},
   "outputs": [],
   "source": [
    "df.to_csv('main.csv')\n",
    "#we export it to another csv file so another notebook can be used"
   ]
  },
  {
   "cell_type": "markdown",
   "metadata": {},
   "source": [
    "# Data Vizualization and Analysis"
   ]
  },
  {
   "cell_type": "code",
   "execution_count": 14,
   "metadata": {},
   "outputs": [],
   "source": [
    "#a function that removes outliers given a specific column\n",
    "\n",
    "def removeoutlier(dataframe, column):\n",
    "    Q1 = df[column].quantile(0.25)\n",
    "    Q3  = df[column].quantile(0.75)\n",
    "    IQR = Q3 - Q1\n",
    "    dataframeOUT = dataframe.loc[(dataframe[column] > Q1-1.5*IQR) & (dataframe[column] < Q3+1.5*IQR)]\n",
    "    return dataframeOUT\n",
    "    "
   ]
  },
  {
   "cell_type": "code",
   "execution_count": 15,
   "metadata": {},
   "outputs": [
    {
     "name": "stdout",
     "output_type": "stream",
     "text": [
      "<class 'pandas.core.frame.DataFrame'>\n",
      "RangeIndex: 191 entries, 0 to 190\n",
      "Data columns (total 11 columns):\n",
      " #   Column                                                  Non-Null Count  Dtype  \n",
      "---  ------                                                  --------------  -----  \n",
      " 0   ISO                                                     191 non-null    object \n",
      " 1   Country                                                 191 non-null    object \n",
      " 2   Infection Rate %                                        191 non-null    float64\n",
      " 3   Mortality Rate %                                        191 non-null    float64\n",
      " 4   Total Cases                                             191 non-null    float64\n",
      " 5   Total Deaths                                            191 non-null    float64\n",
      " 6   GDP per Capita                                          171 non-null    float64\n",
      " 7   Population Density                                      183 non-null    float64\n",
      " 8   Continent                                               190 non-null    object \n",
      " 9   Most Recent Gini Index                                  104 non-null    float64\n",
      " 10  Proportion of Internet Users in the Population in 2017  175 non-null    float64\n",
      "dtypes: float64(8), object(3)\n",
      "memory usage: 16.5+ KB\n"
     ]
    }
   ],
   "source": [
    "#importing the preprocessed data from the data cleaning process\n",
    "df = pd.read_csv('main.csv')\n",
    "df = df.drop(columns = 'Unnamed: 0')\n",
    "df.info()"
   ]
  },
  {
   "cell_type": "code",
   "execution_count": 16,
   "metadata": {
    "scrolled": false
   },
   "outputs": [
    {
     "data": {
      "text/plain": [
       "<matplotlib.axes._subplots.AxesSubplot at 0x2597c1f0a60>"
      ]
     },
     "execution_count": 16,
     "metadata": {},
     "output_type": "execute_result"
    },
    {
     "data": {
      "image/png": "[encoded data removed]",
      "text/plain": [
       "<Figure size 1080x936 with 1 Axes>"
      ]
     },
     "metadata": {
      "needs_background": "light"
     },
     "output_type": "display_data"
    }
   ],
   "source": [
    "basedf = removeoutlier(df, \"Infection Rate %\")\n",
    "basedf = removeoutlier(df, \"Mortality Rate %\")\n",
    "sns.regplot(scatter = True, data = basedf, fit_reg = True, x = 'Infection Rate %', y = 'Mortality Rate %')"
   ]
  },
  {
   "cell_type": "markdown",
   "metadata": {},
   "source": [
    "# Correlation between Socio-Economic factors and Infection Rate, Mortality Rate"
   ]
  },
  {
   "cell_type": "markdown",
   "metadata": {},
   "source": [
    "# GDP Per Capita vs Infection Rate & Mortality Rate"
   ]
  },
  {
   "cell_type": "code",
   "execution_count": 17,
   "metadata": {},
   "outputs": [
    {
     "data": {
      "text/plain": [
       "[Text(0.5, 0, 'GDP per Capita (2019)')]"
      ]
     },
     "execution_count": 17,
     "metadata": {},
     "output_type": "execute_result"
    },
    {
     "data": {
      "image/png": "[encoded data removed]",
      "text/plain": [
       "<Figure size 1080x936 with 1 Axes>"
      ]
     },
     "metadata": {
      "needs_background": "light"
     },
     "output_type": "display_data"
    }
   ],
   "source": [
    "GDPdf = removeoutlier(df, 'GDP per Capita')\n",
    "GDPfig1 = sns.regplot(scatter = True, data = GDPdf, fit_reg = True, x = 'GDP per Capita', y = 'Infection Rate %')\n",
    "GDPfig1.set(xlabel = \"GDP per Capita (2019)\")"
   ]
  },
  {
   "cell_type": "code",
   "execution_count": 18,
   "metadata": {},
   "outputs": [
    {
     "data": {
      "text/plain": [
       "[Text(0.5, 0, 'GDP per Capita (2019)')]"
      ]
     },
     "execution_count": 18,
     "metadata": {},
     "output_type": "execute_result"
    },
    {
     "data": {
      "image/png": "[encoded data removed]",
      "text/plain": [
       "<Figure size 1080x936 with 1 Axes>"
      ]
     },
     "metadata": {
      "needs_background": "light"
     },
     "output_type": "display_data"
    }
   ],
   "source": [
    "GDPfig2 = sns.regplot(scatter = True, data = GDPdf, fit_reg = True, x = 'GDP per Capita', y = 'Mortality Rate %')\n",
    "GDPfig2.set(xlabel = \"GDP per Capita (2019)\")"
   ]
  },
  {
   "cell_type": "markdown",
   "metadata": {},
   "source": [
    "# Hypothesis Testing for GDP per Capita"
   ]
  },
  {
   "cell_type": "markdown",
   "metadata": {},
   "source": [
    "Null Hypothesis 1: There is no correlation between GDP per Capita and Infection Rate\n",
    "\n",
    "Null Hypothesis 2: There is no correlation between GDP per Capita and Mortality Rate\n",
    "\n",
    "Alternative Hypothesis 1: There is a correlation between GDP per Capita and Infection Rate\n",
    "\n",
    "Alternative Hypothesis 2: There is a correlation between GDP per Capita and Mortality Rate\n",
    "\n",
    "We'll be using a two tailed test with a 5% confidence interval (95% confidence interval).\n",
    "As long as the P value is smaler than 0.05, we can reject the null hypothesis and affirm our alternative hypothesis. \n"
   ]
  },
  {
   "cell_type": "code",
   "execution_count": 19,
   "metadata": {},
   "outputs": [
    {
     "name": "stdout",
     "output_type": "stream",
     "text": [
      "The correlation coefficient between GDP per Capita and Infection Rate is 0.48187389417746707\n",
      "The P value is 5.6434496050079624e-11 therefore our null hypothesis is rejected.\n",
      "The correlation coefficient between GDP per Capita and Mortality Rate is -0.10820772838279438\n",
      "The P value is 0.16652624148179718 therefore we fail to reject out null hypothesis.\n"
     ]
    }
   ],
   "source": [
    "r11 = st.pearsonr(x = GDPdf['GDP per Capita'], y = GDPdf['Infection Rate %'])\n",
    "print(\"The correlation coefficient between GDP per Capita and Infection Rate is\", r11[0])\n",
    "print(\"The P value is\", r11[1], \"therefore our null hypothesis is rejected.\")\n",
    "\n",
    "\n",
    "r12 = st.pearsonr(x = GDPdf['GDP per Capita'], y = GDPdf['Mortality Rate %'])\n",
    "print(\"The correlation coefficient between GDP per Capita and Mortality Rate is\", r12[0])\n",
    "print(\"The P value is\", r12[1], \"therefore we fail to reject out null hypothesis.\")\n",
    "\n"
   ]
  },
  {
   "cell_type": "markdown",
   "metadata": {},
   "source": [
    "# Population Density vs Infection Rate and Mortality Rate"
   ]
  },
  {
   "cell_type": "code",
   "execution_count": 20,
   "metadata": {},
   "outputs": [],
   "source": [
    "Popdf = removeoutlier(df, 'Population Density')"
   ]
  },
  {
   "cell_type": "code",
   "execution_count": 21,
   "metadata": {},
   "outputs": [
    {
     "data": {
      "text/plain": [
       "[Text(0.5, 0, 'Population Density 2019 (People per Square Kilometer of Land Area)')]"
      ]
     },
     "execution_count": 21,
     "metadata": {},
     "output_type": "execute_result"
    },
    {
     "data": {
      "image/png": "[encoded data removed]",
      "text/plain": [
       "<Figure size 1080x936 with 1 Axes>"
      ]
     },
     "metadata": {
      "needs_background": "light"
     },
     "output_type": "display_data"
    }
   ],
   "source": [
    "popfig1 = sns.regplot(scatter = True, data = Popdf, fit_reg = True, x = 'Population Density', y = 'Infection Rate %')\n",
    "popfig1.set(xlabel = \"Population Density 2019 (People per Square Kilometer of Land Area)\")"
   ]
  },
  {
   "cell_type": "code",
   "execution_count": 22,
   "metadata": {},
   "outputs": [
    {
     "data": {
      "text/plain": [
       "[Text(0.5, 0, 'Population Density 2019 (People per Square Kilometer of Land Area)')]"
      ]
     },
     "execution_count": 22,
     "metadata": {},
     "output_type": "execute_result"
    },
    {
     "data": {
      "image/png": "[encoded data removed]",
      "text/plain": [
       "<Figure size 1080x936 with 1 Axes>"
      ]
     },
     "metadata": {
      "needs_background": "light"
     },
     "output_type": "display_data"
    }
   ],
   "source": [
    "popfig2 = sns.regplot(scatter = True, data = Popdf, fit_reg = True, x = 'Population Density', y = 'Mortality Rate %')\n",
    "\n",
    "\n",
    "popfig2.set(xlabel = \"Population Density 2019 (People per Square Kilometer of Land Area)\")"
   ]
  },
  {
   "cell_type": "markdown",
   "metadata": {},
   "source": [
    "# Hypothesis Testing for Population Density"
   ]
  },
  {
   "cell_type": "markdown",
   "metadata": {},
   "source": [
    "Null Hypothesis 1: There is no correlation between Population Density and Infection Rate\n",
    "\n",
    "Null Hypothesis 2: There is no correlation between Population Density and Mortality Rate\n",
    "\n",
    "Alternative Hypothesis 1: There is a correlation between Population Density and Infection Rate\n",
    "\n",
    "Alternative Hypothesis 2: There is a correlation between Population Density and Mortality Rate\n",
    "\n",
    "We'll be using a two tailed test with a 5% confidence interval (95% confidence interval). As long as the P value is smaler than 0.05, we can reject the null hypothesis and affirm our alternative hypothesis.\n"
   ]
  },
  {
   "cell_type": "code",
   "execution_count": 23,
   "metadata": {
    "scrolled": true
   },
   "outputs": [
    {
     "name": "stdout",
     "output_type": "stream",
     "text": [
      "The correlation coefficient between Population Density and Infection Rate is 0.12321031652286817\n",
      "The P value is 0.11376594586336111 therefore we fail to reject our null hypothesis.\n",
      "The correlation coefficient between Population Density and Mortality Rate is -0.14316435809002664\n",
      "The P value is 0.06575412026482337 therefore we fail to reject our null hypothesis.\n"
     ]
    }
   ],
   "source": [
    "r21 = st.pearsonr(x = Popdf['Population Density'], y = Popdf['Infection Rate %'])\n",
    "print(\"The correlation coefficient between Population Density and Infection Rate is\", r21[0])\n",
    "print(\"The P value is\", r21[1], \"therefore we fail to reject our null hypothesis.\")\n",
    "\n",
    "r22 = st.pearsonr(x = Popdf['Population Density'], y = Popdf['Mortality Rate %'])\n",
    "print(\"The correlation coefficient between Population Density and Mortality Rate is\", r22[0])\n",
    "print(\"The P value is\", r22[1], \"therefore we fail to reject our null hypothesis.\")"
   ]
  },
  {
   "cell_type": "markdown",
   "metadata": {},
   "source": [
    "# Proportion of Internet Users  vs Infection Rate, Mortality Rate"
   ]
  },
  {
   "cell_type": "code",
   "execution_count": 24,
   "metadata": {},
   "outputs": [],
   "source": [
    "Internetdf = removeoutlier(df, 'Proportion of Internet Users in the Population in 2017')"
   ]
  },
  {
   "cell_type": "code",
   "execution_count": 25,
   "metadata": {},
   "outputs": [
    {
     "data": {
      "text/plain": [
       "[Text(0.5, 0, 'Propotion of Internet Users in the Population')]"
      ]
     },
     "execution_count": 25,
     "metadata": {},
     "output_type": "execute_result"
    },
    {
     "data": {
      "image/png": "[encoded data removed]",
      "text/plain": [
       "<Figure size 1080x936 with 1 Axes>"
      ]
     },
     "metadata": {
      "needs_background": "light"
     },
     "output_type": "display_data"
    }
   ],
   "source": [
    "Internetfig1 = sns.regplot(scatter = True, data = Internetdf, fit_reg = True, x ='Proportion of Internet Users in the Population in 2017' , y = 'Infection Rate %')\n",
    "Internetfig1.set(xlabel = \"Propotion of Internet Users in the Population\") "
   ]
  },
  {
   "cell_type": "code",
   "execution_count": 26,
   "metadata": {},
   "outputs": [
    {
     "data": {
      "text/plain": [
       "[Text(0.5, 0, 'Proportion of Internet Users in the Population')]"
      ]
     },
     "execution_count": 26,
     "metadata": {},
     "output_type": "execute_result"
    },
    {
     "data": {
      "image/png": "[encoded data removed]",
      "text/plain": [
       "<Figure size 1080x936 with 1 Axes>"
      ]
     },
     "metadata": {
      "needs_background": "light"
     },
     "output_type": "display_data"
    }
   ],
   "source": [
    "Internetfig2 = sns.regplot(scatter = True, data = Internetdf, fit_reg = True, x = 'Proportion of Internet Users in the Population in 2017', y = 'Mortality Rate %')\n",
    "Internetfig2.set(xlabel = \"Proportion of Internet Users in the Population\")"
   ]
  },
  {
   "cell_type": "markdown",
   "metadata": {},
   "source": [
    "# Hypothesis Testing for Proportion of Internet Users in the Population\n",
    "Null Hypothesis 1: There is no correlation between the Proportion of Internet Users and Infection Rate\n",
    "\n",
    "Null Hypothesis 2: There is no correlation between the Proportion of Internet Users and Mortality Rate\n",
    "\n",
    "Alternative Hypothesis 1: There is a correlation between the Proportion of Internet Users and Infection Rate\n",
    "\n",
    "Alternative Hypothesis 2: There is a correlation between the Proportion of Internet Users and Mortality Rate\n",
    "\n",
    "We'll be using a two tailed test with a 5% confidence interval (95% confidence interval). As long as the P value is smaller than 0.05, we can reject the null hypothesis and affirm our alternative hypothesis.\n"
   ]
  },
  {
   "cell_type": "code",
   "execution_count": 27,
   "metadata": {},
   "outputs": [
    {
     "name": "stdout",
     "output_type": "stream",
     "text": [
      "The correlation coefficient between Proportion of Internet Users in the Population in 2017 and Infection Rate is 0.12321031652286817\n",
      "The P value is 9.490625056307999e-15 therefore we can reject our null hypothesis.\n",
      "The correlation coefficient between Proportion of Internet Users in the Population in 2017 and Mortality Rate is -0.14316435809002664\n",
      "The P value is 0.021232451507479416 therefore we can reject our null hypothesis.\n"
     ]
    }
   ],
   "source": [
    "r31 = st.pearsonr(x = Internetdf['Proportion of Internet Users in the Population in 2017'], y = Internetdf['Infection Rate %'])\n",
    "print(\"The correlation coefficient between Proportion of Internet Users in the Population in 2017 and Infection Rate is\", r21[0])\n",
    "print(\"The P value is\", r31[1], \"therefore we can reject our null hypothesis.\")\n",
    "\n",
    "r32 = st.pearsonr(x = Internetdf['Proportion of Internet Users in the Population in 2017'], y = Internetdf['Mortality Rate %'])\n",
    "print(\"The correlation coefficient between Proportion of Internet Users in the Population in 2017 and Mortality Rate is\", r22[0])\n",
    "print(\"The P value is\", r32[1], \"therefore we can reject our null hypothesis.\")"
   ]
  },
  {
   "cell_type": "code",
   "execution_count": 28,
   "metadata": {},
   "outputs": [
    {
     "data": {
      "text/plain": [
       "[Text(0.5, 0, 'Gini Index (Most Recent from 2015 - 2018)')]"
      ]
     },
     "execution_count": 28,
     "metadata": {},
     "output_type": "execute_result"
    },
    {
     "data": {
      "image/png": "[encoded data removed]",
      "text/plain": [
       "<Figure size 1080x936 with 1 Axes>"
      ]
     },
     "metadata": {
      "needs_background": "light"
     },
     "output_type": "display_data"
    }
   ],
   "source": [
    "inequalitydf = removeoutlier(df, 'Most Recent Gini Index')\n",
    "inequalitydf = inequalitydf[inequalitydf['Most Recent Gini Index'].notna()]\n",
    "\n",
    "ginifig1 = sns.regplot(scatter = True, data = inequalitydf, fit_reg = True, x = 'Most Recent Gini Index', y = 'Infection Rate %')\n",
    "ginifig1.set(xlabel = \"Gini Index (Most Recent from 2015 - 2018)\")"
   ]
  },
  {
   "cell_type": "code",
   "execution_count": 29,
   "metadata": {},
   "outputs": [
    {
     "data": {
      "text/plain": [
       "[Text(0.5, 0, 'Gini Index (Most Recent from 2015 - 2018)')]"
      ]
     },
     "execution_count": 29,
     "metadata": {},
     "output_type": "execute_result"
    },
    {
     "data": {
      "image/png": "[encoded data removed]",
      "text/plain": [
       "<Figure size 1080x936 with 1 Axes>"
      ]
     },
     "metadata": {
      "needs_background": "light"
     },
     "output_type": "display_data"
    }
   ],
   "source": [
    "ginifig2 = sns.regplot(scatter = True, data = inequalitydf, fit_reg = True, x = 'Most Recent Gini Index', y = 'Mortality Rate %')\n",
    "ginifig2.set(xlabel = \"Gini Index (Most Recent from 2015 - 2018)\")"
   ]
  },
  {
   "cell_type": "markdown",
   "metadata": {},
   "source": [
    "# Hypothesis Testing for Inequality\n",
    "\n",
    "Null Hypothesis 1: There is no correlation between the Level of Inequality and Infection Rate\n",
    "\n",
    "Null Hypothesis 2: There is no correlation between the Level of Inequality and Mortality Rate\n",
    "\n",
    "Alternative Hypothesis 1: There is a correlation between the Level of Inequality and Infection Rate\n",
    "\n",
    "Alternative Hypothesis 2: There is a correlation between the Level of Inequality and Mortality Rate\n",
    "\n",
    "We'll be using a two tailed test with a 5% confidence interval (95% confidence interval). As long as the P value is smaler than 0.05, we can reject the null hypothesis and affirm our alternative hypothesis.\n"
   ]
  },
  {
   "cell_type": "code",
   "execution_count": 30,
   "metadata": {},
   "outputs": [
    {
     "name": "stdout",
     "output_type": "stream",
     "text": [
      "The correlation coefficient between the most recent Gini Index and Infection Rate is -0.11017235357320487\n",
      "The P value is 0.2679232332580459 therefore we fail to reject our null hypothesis.\n",
      "The correlation coefficient between most recent Gini Index and Mortality Rate is 0.15958179529003005\n",
      "The P value is 0.10736525968257568 therefore we fail to reject our null hypothesis.\n"
     ]
    }
   ],
   "source": [
    "r41 = st.pearsonr(x = inequalitydf['Most Recent Gini Index'], y = inequalitydf['Infection Rate %'])\n",
    "print(\"The correlation coefficient between the most recent Gini Index and Infection Rate is\", r41[0])\n",
    "print(\"The P value is\", r41[1], \"therefore we fail to reject our null hypothesis.\")\n",
    "\n",
    "r42 = st.pearsonr(x = inequalitydf['Most Recent Gini Index'], y = inequalitydf['Mortality Rate %'])\n",
    "print(\"The correlation coefficient between most recent Gini Index and Mortality Rate is\", r42[0])\n",
    "print(\"The P value is\", r42[1], \"therefore we fail to reject our null hypothesis.\")"
   ]
  },
  {
   "cell_type": "markdown",
   "metadata": {},
   "source": [
    "# Regression Analysis "
   ]
  },
  {
   "cell_type": "markdown",
   "metadata": {},
   "source": [
    "We'll split the data in 80:20 train set and test set.\n",
    "We'll perform multiple linear regression and select a handful of independent variables that will yield us the best model.\n",
    "We'll find recursively remove variables that are not within the 95% significance level range.\n",
    "Then we'll perform further analysis to determine which model is most fitting with the following tools:\n",
    "1. Adjusted R-Square Value \n",
    "2. Fisher Statistic\n",
    "3. Residual Standard Errors"
   ]
  },
  {
   "cell_type": "code",
   "execution_count": 31,
   "metadata": {},
   "outputs": [],
   "source": [
    "from sklearn.linear_model import LinearRegression\n",
    "import statsmodels.api as sm\n",
    "from math import e\n",
    "from random import sample\n",
    "from sklearn.model_selection import train_test_split"
   ]
  },
  {
   "cell_type": "code",
   "execution_count": 32,
   "metadata": {},
   "outputs": [],
   "source": [
    "dfcopy = df.copy()\n",
    "dfcopy = dfcopy[[\"GDP per Capita\", \"Population Density\", \"Most Recent Gini Index\", \"Proportion of Internet Users in the Population in 2017\", \"Infection Rate %\", \"Mortality Rate %\"]]\n",
    "dfcopy = dfcopy.dropna()\n",
    "dfcopy.isnull().sum()\n",
    "idx = [i for i in range(len(dfcopy))]\n",
    "dfcopy.index = idx\n",
    "dfcopy.reset_index(drop=True, inplace=True)\n",
    "\n"
   ]
  },
  {
   "cell_type": "code",
   "execution_count": 33,
   "metadata": {},
   "outputs": [],
   "source": [
    "x = dfcopy[[\"GDP per Capita\", \"Population Density\", \"Most Recent Gini Index\", \"Proportion of Internet Users in the Population in 2017\"]]\n",
    "y = dfcopy[[\"Infection Rate %\", \"Mortality Rate %\"]]"
   ]
  },
  {
   "cell_type": "code",
   "execution_count": 34,
   "metadata": {},
   "outputs": [
    {
     "data": {
      "text/html": [
       "<div>\n",
       "<style scoped>\n",
       "    .dataframe tbody tr th:only-of-type {\n",
       "        vertical-align: middle;\n",
       "    }\n",
       "\n",
       "    .dataframe tbody tr th {\n",
       "        vertical-align: top;\n",
       "    }\n",
       "\n",
       "    .dataframe thead th {\n",
       "        text-align: right;\n",
       "    }\n",
       "</style>\n",
       "<table border=\"1\" class=\"dataframe\">\n",
       "  <thead>\n",
       "    <tr style=\"text-align: right;\">\n",
       "      <th></th>\n",
       "      <th>GDP per Capita</th>\n",
       "      <th>Population Density</th>\n",
       "      <th>Most Recent Gini Index</th>\n",
       "      <th>Proportion of Internet Users in the Population in 2017</th>\n",
       "    </tr>\n",
       "  </thead>\n",
       "  <tbody>\n",
       "    <tr>\n",
       "      <th>0</th>\n",
       "      <td>5819.495</td>\n",
       "      <td>23.890</td>\n",
       "      <td>51.3</td>\n",
       "      <td>0.143391</td>\n",
       "    </tr>\n",
       "    <tr>\n",
       "      <th>1</th>\n",
       "      <td>11803.431</td>\n",
       "      <td>104.871</td>\n",
       "      <td>33.2</td>\n",
       "      <td>0.718470</td>\n",
       "    </tr>\n",
       "    <tr>\n",
       "      <th>2</th>\n",
       "      <td>18933.907</td>\n",
       "      <td>16.177</td>\n",
       "      <td>41.4</td>\n",
       "      <td>0.742949</td>\n",
       "    </tr>\n",
       "    <tr>\n",
       "      <th>3</th>\n",
       "      <td>8787.580</td>\n",
       "      <td>102.931</td>\n",
       "      <td>34.4</td>\n",
       "      <td>0.647449</td>\n",
       "    </tr>\n",
       "    <tr>\n",
       "      <th>4</th>\n",
       "      <td>45436.686</td>\n",
       "      <td>106.749</td>\n",
       "      <td>29.7</td>\n",
       "      <td>0.879356</td>\n",
       "    </tr>\n",
       "  </tbody>\n",
       "</table>\n",
       "</div>"
      ],
      "text/plain": [
       "   GDP per Capita  Population Density  Most Recent Gini Index  \\\n",
       "0        5819.495              23.890                    51.3   \n",
       "1       11803.431             104.871                    33.2   \n",
       "2       18933.907              16.177                    41.4   \n",
       "3        8787.580             102.931                    34.4   \n",
       "4       45436.686             106.749                    29.7   \n",
       "\n",
       "   Proportion of Internet Users in the Population in 2017  \n",
       "0                                           0.143391       \n",
       "1                                           0.718470       \n",
       "2                                           0.742949       \n",
       "3                                           0.647449       \n",
       "4                                           0.879356       "
      ]
     },
     "execution_count": 34,
     "metadata": {},
     "output_type": "execute_result"
    }
   ],
   "source": [
    "x.head(5)"
   ]
  },
  {
   "cell_type": "code",
   "execution_count": 35,
   "metadata": {},
   "outputs": [
    {
     "data": {
      "text/html": [
       "<div>\n",
       "<style scoped>\n",
       "    .dataframe tbody tr th:only-of-type {\n",
       "        vertical-align: middle;\n",
       "    }\n",
       "\n",
       "    .dataframe tbody tr th {\n",
       "        vertical-align: top;\n",
       "    }\n",
       "\n",
       "    .dataframe thead th {\n",
       "        text-align: right;\n",
       "    }\n",
       "</style>\n",
       "<table border=\"1\" class=\"dataframe\">\n",
       "  <thead>\n",
       "    <tr style=\"text-align: right;\">\n",
       "      <th></th>\n",
       "      <th>Infection Rate %</th>\n",
       "      <th>Mortality Rate %</th>\n",
       "    </tr>\n",
       "  </thead>\n",
       "  <tbody>\n",
       "    <tr>\n",
       "      <th>0</th>\n",
       "      <td>0.031245</td>\n",
       "      <td>2.677963</td>\n",
       "    </tr>\n",
       "    <tr>\n",
       "      <th>1</th>\n",
       "      <td>0.717006</td>\n",
       "      <td>2.432878</td>\n",
       "    </tr>\n",
       "    <tr>\n",
       "      <th>2</th>\n",
       "      <td>2.560341</td>\n",
       "      <td>2.660984</td>\n",
       "    </tr>\n",
       "    <tr>\n",
       "      <th>3</th>\n",
       "      <td>3.030911</td>\n",
       "      <td>1.493102</td>\n",
       "    </tr>\n",
       "    <tr>\n",
       "      <th>4</th>\n",
       "      <td>1.126343</td>\n",
       "      <td>1.063652</td>\n",
       "    </tr>\n",
       "  </tbody>\n",
       "</table>\n",
       "</div>"
      ],
      "text/plain": [
       "   Infection Rate %  Mortality Rate %\n",
       "0          0.031245          2.677963\n",
       "1          0.717006          2.432878\n",
       "2          2.560341          2.660984\n",
       "3          3.030911          1.493102\n",
       "4          1.126343          1.063652"
      ]
     },
     "execution_count": 35,
     "metadata": {},
     "output_type": "execute_result"
    }
   ],
   "source": [
    "y.head(5)"
   ]
  },
  {
   "cell_type": "code",
   "execution_count": 36,
   "metadata": {},
   "outputs": [
    {
     "data": {
      "text/plain": [
       "(81, 4)"
      ]
     },
     "metadata": {},
     "output_type": "display_data"
    },
    {
     "data": {
      "text/plain": [
       "(81, 2)"
      ]
     },
     "metadata": {},
     "output_type": "display_data"
    },
    {
     "data": {
      "text/plain": [
       "(21, 4)"
      ]
     },
     "metadata": {},
     "output_type": "display_data"
    },
    {
     "data": {
      "text/plain": [
       "(21, 2)"
      ]
     },
     "metadata": {},
     "output_type": "display_data"
    }
   ],
   "source": [
    "x_train,x_test,y_train,y_test = train_test_split(x,y,test_size=0.20,random_state=0)\n",
    "display(x_train.shape, y_train.shape, x_test.shape, y_test.shape)"
   ]
  },
  {
   "cell_type": "markdown",
   "metadata": {},
   "source": [
    "We have split our data into two sets and the sets are further divided into the dependent variable."
   ]
  },
  {
   "cell_type": "markdown",
   "metadata": {},
   "source": [
    "# Multiple Linear Regression Analysis: Infection Rate %"
   ]
  },
  {
   "cell_type": "code",
   "execution_count": 37,
   "metadata": {},
   "outputs": [],
   "source": [
    "temp = y_train[\"Infection Rate %\"]"
   ]
  },
  {
   "cell_type": "markdown",
   "metadata": {},
   "source": [
    "# Trial 1:"
   ]
  },
  {
   "cell_type": "code",
   "execution_count": 38,
   "metadata": {},
   "outputs": [
    {
     "data": {
      "text/html": [
       "<table class=\"simpletable\">\n",
       "<caption>OLS Regression Results</caption>\n",
       "<tr>\n",
       "  <th>Dep. Variable:</th>    <td>Infection Rate %</td> <th>  R-squared:         </th> <td>   0.359</td>\n",
       "</tr>\n",
       "<tr>\n",
       "  <th>Model:</th>                   <td>OLS</td>       <th>  Adj. R-squared:    </th> <td>   0.325</td>\n",
       "</tr>\n",
       "<tr>\n",
       "  <th>Method:</th>             <td>Least Squares</td>  <th>  F-statistic:       </th> <td>   10.64</td>\n",
       "</tr>\n",
       "<tr>\n",
       "  <th>Date:</th>             <td>Wed, 23 Dec 2020</td> <th>  Prob (F-statistic):</th> <td>6.73e-07</td>\n",
       "</tr>\n",
       "<tr>\n",
       "  <th>Time:</th>                 <td>16:49:53</td>     <th>  Log-Likelihood:    </th> <td> -95.693</td>\n",
       "</tr>\n",
       "<tr>\n",
       "  <th>No. Observations:</th>      <td>    81</td>      <th>  AIC:               </th> <td>   201.4</td>\n",
       "</tr>\n",
       "<tr>\n",
       "  <th>Df Residuals:</th>          <td>    76</td>      <th>  BIC:               </th> <td>   213.4</td>\n",
       "</tr>\n",
       "<tr>\n",
       "  <th>Df Model:</th>              <td>     4</td>      <th>                     </th>     <td> </td>   \n",
       "</tr>\n",
       "<tr>\n",
       "  <th>Covariance Type:</th>      <td>nonrobust</td>    <th>                     </th>     <td> </td>   \n",
       "</tr>\n",
       "</table>\n",
       "<table class=\"simpletable\">\n",
       "<tr>\n",
       "                             <td></td>                               <th>coef</th>     <th>std err</th>      <th>t</th>      <th>P>|t|</th>  <th>[0.025</th>    <th>0.975]</th>  \n",
       "</tr>\n",
       "<tr>\n",
       "  <th>const</th>                                                  <td>   -1.5220</td> <td>    0.667</td> <td>   -2.283</td> <td> 0.025</td> <td>   -2.850</td> <td>   -0.194</td>\n",
       "</tr>\n",
       "<tr>\n",
       "  <th>GDP per Capita</th>                                         <td>-7.689e-06</td> <td> 9.94e-06</td> <td>   -0.774</td> <td> 0.442</td> <td>-2.75e-05</td> <td> 1.21e-05</td>\n",
       "</tr>\n",
       "<tr>\n",
       "  <th>Population Density</th>                                     <td>    0.0005</td> <td>    0.000</td> <td>    1.217</td> <td> 0.227</td> <td>   -0.000</td> <td>    0.001</td>\n",
       "</tr>\n",
       "<tr>\n",
       "  <th>Most Recent Gini Index</th>                                 <td>    0.0245</td> <td>    0.014</td> <td>    1.795</td> <td> 0.077</td> <td>   -0.003</td> <td>    0.052</td>\n",
       "</tr>\n",
       "<tr>\n",
       "  <th>Proportion of Internet Users in the Population in 2017</th> <td>    2.9205</td> <td>    0.612</td> <td>    4.774</td> <td> 0.000</td> <td>    1.702</td> <td>    4.139</td>\n",
       "</tr>\n",
       "</table>\n",
       "<table class=\"simpletable\">\n",
       "<tr>\n",
       "  <th>Omnibus:</th>       <td> 9.996</td> <th>  Durbin-Watson:     </th> <td>   1.708</td>\n",
       "</tr>\n",
       "<tr>\n",
       "  <th>Prob(Omnibus):</th> <td> 0.007</td> <th>  Jarque-Bera (JB):  </th> <td>   9.867</td>\n",
       "</tr>\n",
       "<tr>\n",
       "  <th>Skew:</th>          <td> 0.801</td> <th>  Prob(JB):          </th> <td> 0.00720</td>\n",
       "</tr>\n",
       "<tr>\n",
       "  <th>Kurtosis:</th>      <td> 3.597</td> <th>  Cond. No.          </th> <td>2.04e+05</td>\n",
       "</tr>\n",
       "</table><br/><br/>Warnings:<br/>[1] Standard Errors assume that the covariance matrix of the errors is correctly specified.<br/>[2] The condition number is large, 2.04e+05. This might indicate that there are<br/>strong multicollinearity or other numerical problems."
      ],
      "text/plain": [
       "<class 'statsmodels.iolib.summary.Summary'>\n",
       "\"\"\"\n",
       "                            OLS Regression Results                            \n",
       "==============================================================================\n",
       "Dep. Variable:       Infection Rate %   R-squared:                       0.359\n",
       "Model:                            OLS   Adj. R-squared:                  0.325\n",
       "Method:                 Least Squares   F-statistic:                     10.64\n",
       "Date:                Wed, 23 Dec 2020   Prob (F-statistic):           6.73e-07\n",
       "Time:                        16:49:53   Log-Likelihood:                -95.693\n",
       "No. Observations:                  81   AIC:                             201.4\n",
       "Df Residuals:                      76   BIC:                             213.4\n",
       "Df Model:                           4                                         \n",
       "Covariance Type:            nonrobust                                         \n",
       "==========================================================================================================================\n",
       "                                                             coef    std err          t      P>|t|      [0.025      0.975]\n",
       "--------------------------------------------------------------------------------------------------------------------------\n",
       "const                                                     -1.5220      0.667     -2.283      0.025      -2.850      -0.194\n",
       "GDP per Capita                                         -7.689e-06   9.94e-06     -0.774      0.442   -2.75e-05    1.21e-05\n",
       "Population Density                                         0.0005      0.000      1.217      0.227      -0.000       0.001\n",
       "Most Recent Gini Index                                     0.0245      0.014      1.795      0.077      -0.003       0.052\n",
       "Proportion of Internet Users in the Population in 2017     2.9205      0.612      4.774      0.000       1.702       4.139\n",
       "==============================================================================\n",
       "Omnibus:                        9.996   Durbin-Watson:                   1.708\n",
       "Prob(Omnibus):                  0.007   Jarque-Bera (JB):                9.867\n",
       "Skew:                           0.801   Prob(JB):                      0.00720\n",
       "Kurtosis:                       3.597   Cond. No.                     2.04e+05\n",
       "==============================================================================\n",
       "\n",
       "Warnings:\n",
       "[1] Standard Errors assume that the covariance matrix of the errors is correctly specified.\n",
       "[2] The condition number is large, 2.04e+05. This might indicate that there are\n",
       "strong multicollinearity or other numerical problems.\n",
       "\"\"\""
      ]
     },
     "execution_count": 38,
     "metadata": {},
     "output_type": "execute_result"
    }
   ],
   "source": [
    "one = x_train.copy()\n",
    "one = sm.add_constant(x_train)\n",
    "model = sm.OLS(temp, one).fit()\n",
    "model.summary()\n",
    "\n",
    "\n"
   ]
  },
  {
   "cell_type": "markdown",
   "metadata": {},
   "source": [
    "# Trial 2"
   ]
  },
  {
   "cell_type": "code",
   "execution_count": 39,
   "metadata": {},
   "outputs": [
    {
     "data": {
      "text/html": [
       "<table class=\"simpletable\">\n",
       "<caption>OLS Regression Results</caption>\n",
       "<tr>\n",
       "  <th>Dep. Variable:</th>    <td>Infection Rate %</td> <th>  R-squared:         </th> <td>   0.359</td>\n",
       "</tr>\n",
       "<tr>\n",
       "  <th>Model:</th>                   <td>OLS</td>       <th>  Adj. R-squared:    </th> <td>   0.325</td>\n",
       "</tr>\n",
       "<tr>\n",
       "  <th>Method:</th>             <td>Least Squares</td>  <th>  F-statistic:       </th> <td>   10.64</td>\n",
       "</tr>\n",
       "<tr>\n",
       "  <th>Date:</th>             <td>Wed, 23 Dec 2020</td> <th>  Prob (F-statistic):</th> <td>6.73e-07</td>\n",
       "</tr>\n",
       "<tr>\n",
       "  <th>Time:</th>                 <td>16:49:53</td>     <th>  Log-Likelihood:    </th> <td> -95.693</td>\n",
       "</tr>\n",
       "<tr>\n",
       "  <th>No. Observations:</th>      <td>    81</td>      <th>  AIC:               </th> <td>   201.4</td>\n",
       "</tr>\n",
       "<tr>\n",
       "  <th>Df Residuals:</th>          <td>    76</td>      <th>  BIC:               </th> <td>   213.4</td>\n",
       "</tr>\n",
       "<tr>\n",
       "  <th>Df Model:</th>              <td>     4</td>      <th>                     </th>     <td> </td>   \n",
       "</tr>\n",
       "<tr>\n",
       "  <th>Covariance Type:</th>      <td>nonrobust</td>    <th>                     </th>     <td> </td>   \n",
       "</tr>\n",
       "</table>\n",
       "<table class=\"simpletable\">\n",
       "<tr>\n",
       "                             <td></td>                               <th>coef</th>     <th>std err</th>      <th>t</th>      <th>P>|t|</th>  <th>[0.025</th>    <th>0.975]</th>  \n",
       "</tr>\n",
       "<tr>\n",
       "  <th>const</th>                                                  <td>   -1.5220</td> <td>    0.667</td> <td>   -2.283</td> <td> 0.025</td> <td>   -2.850</td> <td>   -0.194</td>\n",
       "</tr>\n",
       "<tr>\n",
       "  <th>GDP per Capita</th>                                         <td>-7.689e-06</td> <td> 9.94e-06</td> <td>   -0.774</td> <td> 0.442</td> <td>-2.75e-05</td> <td> 1.21e-05</td>\n",
       "</tr>\n",
       "<tr>\n",
       "  <th>Population Density</th>                                     <td>    0.0005</td> <td>    0.000</td> <td>    1.217</td> <td> 0.227</td> <td>   -0.000</td> <td>    0.001</td>\n",
       "</tr>\n",
       "<tr>\n",
       "  <th>Most Recent Gini Index</th>                                 <td>    0.0245</td> <td>    0.014</td> <td>    1.795</td> <td> 0.077</td> <td>   -0.003</td> <td>    0.052</td>\n",
       "</tr>\n",
       "<tr>\n",
       "  <th>Proportion of Internet Users in the Population in 2017</th> <td>    2.9205</td> <td>    0.612</td> <td>    4.774</td> <td> 0.000</td> <td>    1.702</td> <td>    4.139</td>\n",
       "</tr>\n",
       "</table>\n",
       "<table class=\"simpletable\">\n",
       "<tr>\n",
       "  <th>Omnibus:</th>       <td> 9.996</td> <th>  Durbin-Watson:     </th> <td>   1.708</td>\n",
       "</tr>\n",
       "<tr>\n",
       "  <th>Prob(Omnibus):</th> <td> 0.007</td> <th>  Jarque-Bera (JB):  </th> <td>   9.867</td>\n",
       "</tr>\n",
       "<tr>\n",
       "  <th>Skew:</th>          <td> 0.801</td> <th>  Prob(JB):          </th> <td> 0.00720</td>\n",
       "</tr>\n",
       "<tr>\n",
       "  <th>Kurtosis:</th>      <td> 3.597</td> <th>  Cond. No.          </th> <td>2.04e+05</td>\n",
       "</tr>\n",
       "</table><br/><br/>Warnings:<br/>[1] Standard Errors assume that the covariance matrix of the errors is correctly specified.<br/>[2] The condition number is large, 2.04e+05. This might indicate that there are<br/>strong multicollinearity or other numerical problems."
      ],
      "text/plain": [
       "<class 'statsmodels.iolib.summary.Summary'>\n",
       "\"\"\"\n",
       "                            OLS Regression Results                            \n",
       "==============================================================================\n",
       "Dep. Variable:       Infection Rate %   R-squared:                       0.359\n",
       "Model:                            OLS   Adj. R-squared:                  0.325\n",
       "Method:                 Least Squares   F-statistic:                     10.64\n",
       "Date:                Wed, 23 Dec 2020   Prob (F-statistic):           6.73e-07\n",
       "Time:                        16:49:53   Log-Likelihood:                -95.693\n",
       "No. Observations:                  81   AIC:                             201.4\n",
       "Df Residuals:                      76   BIC:                             213.4\n",
       "Df Model:                           4                                         \n",
       "Covariance Type:            nonrobust                                         \n",
       "==========================================================================================================================\n",
       "                                                             coef    std err          t      P>|t|      [0.025      0.975]\n",
       "--------------------------------------------------------------------------------------------------------------------------\n",
       "const                                                     -1.5220      0.667     -2.283      0.025      -2.850      -0.194\n",
       "GDP per Capita                                         -7.689e-06   9.94e-06     -0.774      0.442   -2.75e-05    1.21e-05\n",
       "Population Density                                         0.0005      0.000      1.217      0.227      -0.000       0.001\n",
       "Most Recent Gini Index                                     0.0245      0.014      1.795      0.077      -0.003       0.052\n",
       "Proportion of Internet Users in the Population in 2017     2.9205      0.612      4.774      0.000       1.702       4.139\n",
       "==============================================================================\n",
       "Omnibus:                        9.996   Durbin-Watson:                   1.708\n",
       "Prob(Omnibus):                  0.007   Jarque-Bera (JB):                9.867\n",
       "Skew:                           0.801   Prob(JB):                      0.00720\n",
       "Kurtosis:                       3.597   Cond. No.                     2.04e+05\n",
       "==============================================================================\n",
       "\n",
       "Warnings:\n",
       "[1] Standard Errors assume that the covariance matrix of the errors is correctly specified.\n",
       "[2] The condition number is large, 2.04e+05. This might indicate that there are\n",
       "strong multicollinearity or other numerical problems.\n",
       "\"\"\""
      ]
     },
     "execution_count": 39,
     "metadata": {},
     "output_type": "execute_result"
    }
   ],
   "source": [
    "two = x_train.copy().drop(columns = [\"GDP per Capita\"])\n",
    "two = sm.add_constant(x_train)\n",
    "model = sm.OLS(temp, two).fit()\n",
    "model.summary()"
   ]
  },
  {
   "cell_type": "markdown",
   "metadata": {},
   "source": [
    "# Trial 3"
   ]
  },
  {
   "cell_type": "code",
   "execution_count": 40,
   "metadata": {},
   "outputs": [
    {
     "data": {
      "text/html": [
       "<table class=\"simpletable\">\n",
       "<caption>OLS Regression Results</caption>\n",
       "<tr>\n",
       "  <th>Dep. Variable:</th>    <td>Infection Rate %</td> <th>  R-squared:         </th> <td>   0.359</td>\n",
       "</tr>\n",
       "<tr>\n",
       "  <th>Model:</th>                   <td>OLS</td>       <th>  Adj. R-squared:    </th> <td>   0.325</td>\n",
       "</tr>\n",
       "<tr>\n",
       "  <th>Method:</th>             <td>Least Squares</td>  <th>  F-statistic:       </th> <td>   10.64</td>\n",
       "</tr>\n",
       "<tr>\n",
       "  <th>Date:</th>             <td>Wed, 23 Dec 2020</td> <th>  Prob (F-statistic):</th> <td>6.73e-07</td>\n",
       "</tr>\n",
       "<tr>\n",
       "  <th>Time:</th>                 <td>16:49:53</td>     <th>  Log-Likelihood:    </th> <td> -95.693</td>\n",
       "</tr>\n",
       "<tr>\n",
       "  <th>No. Observations:</th>      <td>    81</td>      <th>  AIC:               </th> <td>   201.4</td>\n",
       "</tr>\n",
       "<tr>\n",
       "  <th>Df Residuals:</th>          <td>    76</td>      <th>  BIC:               </th> <td>   213.4</td>\n",
       "</tr>\n",
       "<tr>\n",
       "  <th>Df Model:</th>              <td>     4</td>      <th>                     </th>     <td> </td>   \n",
       "</tr>\n",
       "<tr>\n",
       "  <th>Covariance Type:</th>      <td>nonrobust</td>    <th>                     </th>     <td> </td>   \n",
       "</tr>\n",
       "</table>\n",
       "<table class=\"simpletable\">\n",
       "<tr>\n",
       "                             <td></td>                               <th>coef</th>     <th>std err</th>      <th>t</th>      <th>P>|t|</th>  <th>[0.025</th>    <th>0.975]</th>  \n",
       "</tr>\n",
       "<tr>\n",
       "  <th>const</th>                                                  <td>   -1.5220</td> <td>    0.667</td> <td>   -2.283</td> <td> 0.025</td> <td>   -2.850</td> <td>   -0.194</td>\n",
       "</tr>\n",
       "<tr>\n",
       "  <th>GDP per Capita</th>                                         <td>-7.689e-06</td> <td> 9.94e-06</td> <td>   -0.774</td> <td> 0.442</td> <td>-2.75e-05</td> <td> 1.21e-05</td>\n",
       "</tr>\n",
       "<tr>\n",
       "  <th>Population Density</th>                                     <td>    0.0005</td> <td>    0.000</td> <td>    1.217</td> <td> 0.227</td> <td>   -0.000</td> <td>    0.001</td>\n",
       "</tr>\n",
       "<tr>\n",
       "  <th>Most Recent Gini Index</th>                                 <td>    0.0245</td> <td>    0.014</td> <td>    1.795</td> <td> 0.077</td> <td>   -0.003</td> <td>    0.052</td>\n",
       "</tr>\n",
       "<tr>\n",
       "  <th>Proportion of Internet Users in the Population in 2017</th> <td>    2.9205</td> <td>    0.612</td> <td>    4.774</td> <td> 0.000</td> <td>    1.702</td> <td>    4.139</td>\n",
       "</tr>\n",
       "</table>\n",
       "<table class=\"simpletable\">\n",
       "<tr>\n",
       "  <th>Omnibus:</th>       <td> 9.996</td> <th>  Durbin-Watson:     </th> <td>   1.708</td>\n",
       "</tr>\n",
       "<tr>\n",
       "  <th>Prob(Omnibus):</th> <td> 0.007</td> <th>  Jarque-Bera (JB):  </th> <td>   9.867</td>\n",
       "</tr>\n",
       "<tr>\n",
       "  <th>Skew:</th>          <td> 0.801</td> <th>  Prob(JB):          </th> <td> 0.00720</td>\n",
       "</tr>\n",
       "<tr>\n",
       "  <th>Kurtosis:</th>      <td> 3.597</td> <th>  Cond. No.          </th> <td>2.04e+05</td>\n",
       "</tr>\n",
       "</table><br/><br/>Warnings:<br/>[1] Standard Errors assume that the covariance matrix of the errors is correctly specified.<br/>[2] The condition number is large, 2.04e+05. This might indicate that there are<br/>strong multicollinearity or other numerical problems."
      ],
      "text/plain": [
       "<class 'statsmodels.iolib.summary.Summary'>\n",
       "\"\"\"\n",
       "                            OLS Regression Results                            \n",
       "==============================================================================\n",
       "Dep. Variable:       Infection Rate %   R-squared:                       0.359\n",
       "Model:                            OLS   Adj. R-squared:                  0.325\n",
       "Method:                 Least Squares   F-statistic:                     10.64\n",
       "Date:                Wed, 23 Dec 2020   Prob (F-statistic):           6.73e-07\n",
       "Time:                        16:49:53   Log-Likelihood:                -95.693\n",
       "No. Observations:                  81   AIC:                             201.4\n",
       "Df Residuals:                      76   BIC:                             213.4\n",
       "Df Model:                           4                                         \n",
       "Covariance Type:            nonrobust                                         \n",
       "==========================================================================================================================\n",
       "                                                             coef    std err          t      P>|t|      [0.025      0.975]\n",
       "--------------------------------------------------------------------------------------------------------------------------\n",
       "const                                                     -1.5220      0.667     -2.283      0.025      -2.850      -0.194\n",
       "GDP per Capita                                         -7.689e-06   9.94e-06     -0.774      0.442   -2.75e-05    1.21e-05\n",
       "Population Density                                         0.0005      0.000      1.217      0.227      -0.000       0.001\n",
       "Most Recent Gini Index                                     0.0245      0.014      1.795      0.077      -0.003       0.052\n",
       "Proportion of Internet Users in the Population in 2017     2.9205      0.612      4.774      0.000       1.702       4.139\n",
       "==============================================================================\n",
       "Omnibus:                        9.996   Durbin-Watson:                   1.708\n",
       "Prob(Omnibus):                  0.007   Jarque-Bera (JB):                9.867\n",
       "Skew:                           0.801   Prob(JB):                      0.00720\n",
       "Kurtosis:                       3.597   Cond. No.                     2.04e+05\n",
       "==============================================================================\n",
       "\n",
       "Warnings:\n",
       "[1] Standard Errors assume that the covariance matrix of the errors is correctly specified.\n",
       "[2] The condition number is large, 2.04e+05. This might indicate that there are\n",
       "strong multicollinearity or other numerical problems.\n",
       "\"\"\""
      ]
     },
     "execution_count": 40,
     "metadata": {},
     "output_type": "execute_result"
    }
   ],
   "source": [
    "three = x_train.copy().drop(columns = [\"GDP per Capita\", \"Population Density\"])\n",
    "three = sm.add_constant(x_train)\n",
    "model = sm.OLS(temp, three).fit()\n",
    "model.summary()"
   ]
  },
  {
   "cell_type": "markdown",
   "metadata": {},
   "source": [
    "# Trial 4"
   ]
  },
  {
   "cell_type": "code",
   "execution_count": 41,
   "metadata": {
    "scrolled": false
   },
   "outputs": [
    {
     "data": {
      "text/html": [
       "<table class=\"simpletable\">\n",
       "<caption>OLS Regression Results</caption>\n",
       "<tr>\n",
       "  <th>Dep. Variable:</th>    <td>Infection Rate %</td> <th>  R-squared:         </th> <td>   0.315</td>\n",
       "</tr>\n",
       "<tr>\n",
       "  <th>Model:</th>                   <td>OLS</td>       <th>  Adj. R-squared:    </th> <td>   0.307</td>\n",
       "</tr>\n",
       "<tr>\n",
       "  <th>Method:</th>             <td>Least Squares</td>  <th>  F-statistic:       </th> <td>   36.38</td>\n",
       "</tr>\n",
       "<tr>\n",
       "  <th>Date:</th>             <td>Wed, 23 Dec 2020</td> <th>  Prob (F-statistic):</th> <td>4.95e-08</td>\n",
       "</tr>\n",
       "<tr>\n",
       "  <th>Time:</th>                 <td>16:49:53</td>     <th>  Log-Likelihood:    </th> <td> -98.361</td>\n",
       "</tr>\n",
       "<tr>\n",
       "  <th>No. Observations:</th>      <td>    81</td>      <th>  AIC:               </th> <td>   200.7</td>\n",
       "</tr>\n",
       "<tr>\n",
       "  <th>Df Residuals:</th>          <td>    79</td>      <th>  BIC:               </th> <td>   205.5</td>\n",
       "</tr>\n",
       "<tr>\n",
       "  <th>Df Model:</th>              <td>     1</td>      <th>                     </th>     <td> </td>   \n",
       "</tr>\n",
       "<tr>\n",
       "  <th>Covariance Type:</th>      <td>nonrobust</td>    <th>                     </th>     <td> </td>   \n",
       "</tr>\n",
       "</table>\n",
       "<table class=\"simpletable\">\n",
       "<tr>\n",
       "                             <td></td>                               <th>coef</th>     <th>std err</th>      <th>t</th>      <th>P>|t|</th>  <th>[0.025</th>    <th>0.975]</th>  \n",
       "</tr>\n",
       "<tr>\n",
       "  <th>const</th>                                                  <td>   -0.2620</td> <td>    0.227</td> <td>   -1.154</td> <td> 0.252</td> <td>   -0.714</td> <td>    0.190</td>\n",
       "</tr>\n",
       "<tr>\n",
       "  <th>Proportion of Internet Users in the Population in 2017</th> <td>    2.2050</td> <td>    0.366</td> <td>    6.031</td> <td> 0.000</td> <td>    1.477</td> <td>    2.933</td>\n",
       "</tr>\n",
       "</table>\n",
       "<table class=\"simpletable\">\n",
       "<tr>\n",
       "  <th>Omnibus:</th>       <td>10.608</td> <th>  Durbin-Watson:     </th> <td>   1.650</td>\n",
       "</tr>\n",
       "<tr>\n",
       "  <th>Prob(Omnibus):</th> <td> 0.005</td> <th>  Jarque-Bera (JB):  </th> <td>  10.707</td>\n",
       "</tr>\n",
       "<tr>\n",
       "  <th>Skew:</th>          <td> 0.852</td> <th>  Prob(JB):          </th> <td> 0.00473</td>\n",
       "</tr>\n",
       "<tr>\n",
       "  <th>Kurtosis:</th>      <td> 3.519</td> <th>  Cond. No.          </th> <td>    5.34</td>\n",
       "</tr>\n",
       "</table><br/><br/>Warnings:<br/>[1] Standard Errors assume that the covariance matrix of the errors is correctly specified."
      ],
      "text/plain": [
       "<class 'statsmodels.iolib.summary.Summary'>\n",
       "\"\"\"\n",
       "                            OLS Regression Results                            \n",
       "==============================================================================\n",
       "Dep. Variable:       Infection Rate %   R-squared:                       0.315\n",
       "Model:                            OLS   Adj. R-squared:                  0.307\n",
       "Method:                 Least Squares   F-statistic:                     36.38\n",
       "Date:                Wed, 23 Dec 2020   Prob (F-statistic):           4.95e-08\n",
       "Time:                        16:49:53   Log-Likelihood:                -98.361\n",
       "No. Observations:                  81   AIC:                             200.7\n",
       "Df Residuals:                      79   BIC:                             205.5\n",
       "Df Model:                           1                                         \n",
       "Covariance Type:            nonrobust                                         \n",
       "==========================================================================================================================\n",
       "                                                             coef    std err          t      P>|t|      [0.025      0.975]\n",
       "--------------------------------------------------------------------------------------------------------------------------\n",
       "const                                                     -0.2620      0.227     -1.154      0.252      -0.714       0.190\n",
       "Proportion of Internet Users in the Population in 2017     2.2050      0.366      6.031      0.000       1.477       2.933\n",
       "==============================================================================\n",
       "Omnibus:                       10.608   Durbin-Watson:                   1.650\n",
       "Prob(Omnibus):                  0.005   Jarque-Bera (JB):               10.707\n",
       "Skew:                           0.852   Prob(JB):                      0.00473\n",
       "Kurtosis:                       3.519   Cond. No.                         5.34\n",
       "==============================================================================\n",
       "\n",
       "Warnings:\n",
       "[1] Standard Errors assume that the covariance matrix of the errors is correctly specified.\n",
       "\"\"\""
      ]
     },
     "execution_count": 41,
     "metadata": {},
     "output_type": "execute_result"
    }
   ],
   "source": [
    "four = x_train.copy().drop(columns = [\"GDP per Capita\", \"Population Density\", \"Most Recent Gini Index\"])\n",
    "four = sm.add_constant(four)\n",
    "model = sm.OLS(temp, four).fit()\n",
    "model.summary()"
   ]
  },
  {
   "cell_type": "markdown",
   "metadata": {},
   "source": [
    "# Trial 5"
   ]
  },
  {
   "cell_type": "code",
   "execution_count": 42,
   "metadata": {},
   "outputs": [
    {
     "data": {
      "text/html": [
       "<table class=\"simpletable\">\n",
       "<caption>OLS Regression Results</caption>\n",
       "<tr>\n",
       "  <th>Dep. Variable:</th>    <td>Infection Rate %</td> <th>  R-squared (uncentered):</th>      <td>   0.654</td>\n",
       "</tr>\n",
       "<tr>\n",
       "  <th>Model:</th>                   <td>OLS</td>       <th>  Adj. R-squared (uncentered):</th> <td>   0.650</td>\n",
       "</tr>\n",
       "<tr>\n",
       "  <th>Method:</th>             <td>Least Squares</td>  <th>  F-statistic:       </th>          <td>   151.2</td>\n",
       "</tr>\n",
       "<tr>\n",
       "  <th>Date:</th>             <td>Wed, 23 Dec 2020</td> <th>  Prob (F-statistic):</th>          <td>4.03e-20</td>\n",
       "</tr>\n",
       "<tr>\n",
       "  <th>Time:</th>                 <td>16:49:53</td>     <th>  Log-Likelihood:    </th>          <td> -99.038</td>\n",
       "</tr>\n",
       "<tr>\n",
       "  <th>No. Observations:</th>      <td>    81</td>      <th>  AIC:               </th>          <td>   200.1</td>\n",
       "</tr>\n",
       "<tr>\n",
       "  <th>Df Residuals:</th>          <td>    80</td>      <th>  BIC:               </th>          <td>   202.5</td>\n",
       "</tr>\n",
       "<tr>\n",
       "  <th>Df Model:</th>              <td>     1</td>      <th>                     </th>              <td> </td>   \n",
       "</tr>\n",
       "<tr>\n",
       "  <th>Covariance Type:</th>      <td>nonrobust</td>    <th>                     </th>              <td> </td>   \n",
       "</tr>\n",
       "</table>\n",
       "<table class=\"simpletable\">\n",
       "<tr>\n",
       "                             <td></td>                               <th>coef</th>     <th>std err</th>      <th>t</th>      <th>P>|t|</th>  <th>[0.025</th>    <th>0.975]</th>  \n",
       "</tr>\n",
       "<tr>\n",
       "  <th>Proportion of Internet Users in the Population in 2017</th> <td>    1.8191</td> <td>    0.148</td> <td>   12.295</td> <td> 0.000</td> <td>    1.525</td> <td>    2.114</td>\n",
       "</tr>\n",
       "</table>\n",
       "<table class=\"simpletable\">\n",
       "<tr>\n",
       "  <th>Omnibus:</th>       <td>14.608</td> <th>  Durbin-Watson:     </th> <td>   1.642</td>\n",
       "</tr>\n",
       "<tr>\n",
       "  <th>Prob(Omnibus):</th> <td> 0.001</td> <th>  Jarque-Bera (JB):  </th> <td>  16.193</td>\n",
       "</tr>\n",
       "<tr>\n",
       "  <th>Skew:</th>          <td> 1.045</td> <th>  Prob(JB):          </th> <td>0.000305</td>\n",
       "</tr>\n",
       "<tr>\n",
       "  <th>Kurtosis:</th>      <td> 3.659</td> <th>  Cond. No.          </th> <td>    1.00</td>\n",
       "</tr>\n",
       "</table><br/><br/>Warnings:<br/>[1] Standard Errors assume that the covariance matrix of the errors is correctly specified."
      ],
      "text/plain": [
       "<class 'statsmodels.iolib.summary.Summary'>\n",
       "\"\"\"\n",
       "                                 OLS Regression Results                                \n",
       "=======================================================================================\n",
       "Dep. Variable:       Infection Rate %   R-squared (uncentered):                   0.654\n",
       "Model:                            OLS   Adj. R-squared (uncentered):              0.650\n",
       "Method:                 Least Squares   F-statistic:                              151.2\n",
       "Date:                Wed, 23 Dec 2020   Prob (F-statistic):                    4.03e-20\n",
       "Time:                        16:49:53   Log-Likelihood:                         -99.038\n",
       "No. Observations:                  81   AIC:                                      200.1\n",
       "Df Residuals:                      80   BIC:                                      202.5\n",
       "Df Model:                           1                                                  \n",
       "Covariance Type:            nonrobust                                                  \n",
       "==========================================================================================================================\n",
       "                                                             coef    std err          t      P>|t|      [0.025      0.975]\n",
       "--------------------------------------------------------------------------------------------------------------------------\n",
       "Proportion of Internet Users in the Population in 2017     1.8191      0.148     12.295      0.000       1.525       2.114\n",
       "==============================================================================\n",
       "Omnibus:                       14.608   Durbin-Watson:                   1.642\n",
       "Prob(Omnibus):                  0.001   Jarque-Bera (JB):               16.193\n",
       "Skew:                           1.045   Prob(JB):                     0.000305\n",
       "Kurtosis:                       3.659   Cond. No.                         1.00\n",
       "==============================================================================\n",
       "\n",
       "Warnings:\n",
       "[1] Standard Errors assume that the covariance matrix of the errors is correctly specified.\n",
       "\"\"\""
      ]
     },
     "execution_count": 42,
     "metadata": {},
     "output_type": "execute_result"
    }
   ],
   "source": [
    "five = four.drop(columns = [\"const\"])\n",
    "model = sm.OLS(temp, five).fit()\n",
    "model.summary()"
   ]
  },
  {
   "cell_type": "markdown",
   "metadata": {},
   "source": [
    "Using a model on the test set:"
   ]
  },
  {
   "cell_type": "code",
   "execution_count": 43,
   "metadata": {},
   "outputs": [
    {
     "name": "stdout",
     "output_type": "stream",
     "text": [
      "RSE = 0.1470114767973665\n",
      "Mean = 0.8378371495265631\n",
      "Error = 17.549999999999997%\n"
     ]
    }
   ],
   "source": [
    "temp2 = model.predict(x_test[\"Proportion of Internet Users in the Population in 2017\"])\n",
    "testResult = y_test.copy().drop(columns = {\"Mortality Rate %\"})\n",
    "\n",
    "testResult[\"Predicted Infection Rate\"] = temp2\n",
    "testResult['SSD'] = (testResult['Infection Rate %'] - testResult['Predicted Infection Rate'])**2\n",
    "SSD = testResult['SSD'].sum()\n",
    "RSE = np.sqrt(SSD / 496)\n",
    "mean = np.mean(testResult['Infection Rate %'])\n",
    "error = RSE / mean\n",
    "\n",
    "print(f'RSE = {RSE}\\nMean = {mean}\\nError = {np.round(error, 4)*100}%')"
   ]
  },
  {
   "cell_type": "markdown",
   "metadata": {},
   "source": [
    "# Result 1: Our fifth model is the best fitting model. Despite that, we observe that the model predictive capabilities is relatively weak from the various statistics."
   ]
  },
  {
   "cell_type": "markdown",
   "metadata": {},
   "source": [
    "# Correlation Analysis: Mortality Rate"
   ]
  },
  {
   "cell_type": "code",
   "execution_count": 44,
   "metadata": {},
   "outputs": [],
   "source": [
    "temp = y_train[\"Mortality Rate %\"]"
   ]
  },
  {
   "cell_type": "markdown",
   "metadata": {},
   "source": [
    "# Trial 1"
   ]
  },
  {
   "cell_type": "code",
   "execution_count": 45,
   "metadata": {},
   "outputs": [
    {
     "data": {
      "text/html": [
       "<table class=\"simpletable\">\n",
       "<caption>OLS Regression Results</caption>\n",
       "<tr>\n",
       "  <th>Dep. Variable:</th>    <td>Mortality Rate %</td> <th>  R-squared:         </th> <td>   0.072</td>\n",
       "</tr>\n",
       "<tr>\n",
       "  <th>Model:</th>                   <td>OLS</td>       <th>  Adj. R-squared:    </th> <td>   0.023</td>\n",
       "</tr>\n",
       "<tr>\n",
       "  <th>Method:</th>             <td>Least Squares</td>  <th>  F-statistic:       </th> <td>   1.475</td>\n",
       "</tr>\n",
       "<tr>\n",
       "  <th>Date:</th>             <td>Wed, 23 Dec 2020</td> <th>  Prob (F-statistic):</th>  <td> 0.218</td> \n",
       "</tr>\n",
       "<tr>\n",
       "  <th>Time:</th>                 <td>16:49:53</td>     <th>  Log-Likelihood:    </th> <td> -146.43</td>\n",
       "</tr>\n",
       "<tr>\n",
       "  <th>No. Observations:</th>      <td>    81</td>      <th>  AIC:               </th> <td>   302.9</td>\n",
       "</tr>\n",
       "<tr>\n",
       "  <th>Df Residuals:</th>          <td>    76</td>      <th>  BIC:               </th> <td>   314.8</td>\n",
       "</tr>\n",
       "<tr>\n",
       "  <th>Df Model:</th>              <td>     4</td>      <th>                     </th>     <td> </td>   \n",
       "</tr>\n",
       "<tr>\n",
       "  <th>Covariance Type:</th>      <td>nonrobust</td>    <th>                     </th>     <td> </td>   \n",
       "</tr>\n",
       "</table>\n",
       "<table class=\"simpletable\">\n",
       "<tr>\n",
       "                             <td></td>                               <th>coef</th>     <th>std err</th>      <th>t</th>      <th>P>|t|</th>  <th>[0.025</th>    <th>0.975]</th>  \n",
       "</tr>\n",
       "<tr>\n",
       "  <th>const</th>                                                  <td>    1.9218</td> <td>    1.247</td> <td>    1.541</td> <td> 0.128</td> <td>   -0.563</td> <td>    4.406</td>\n",
       "</tr>\n",
       "<tr>\n",
       "  <th>GDP per Capita</th>                                         <td> 1.741e-05</td> <td> 1.86e-05</td> <td>    0.936</td> <td> 0.352</td> <td>-1.96e-05</td> <td> 5.44e-05</td>\n",
       "</tr>\n",
       "<tr>\n",
       "  <th>Population Density</th>                                     <td>   -0.0012</td> <td>    0.001</td> <td>   -1.695</td> <td> 0.094</td> <td>   -0.003</td> <td>    0.000</td>\n",
       "</tr>\n",
       "<tr>\n",
       "  <th>Most Recent Gini Index</th>                                 <td>    0.0214</td> <td>    0.025</td> <td>    0.841</td> <td> 0.403</td> <td>   -0.029</td> <td>    0.072</td>\n",
       "</tr>\n",
       "<tr>\n",
       "  <th>Proportion of Internet Users in the Population in 2017</th> <td>   -1.1310</td> <td>    1.144</td> <td>   -0.988</td> <td> 0.326</td> <td>   -3.410</td> <td>    1.148</td>\n",
       "</tr>\n",
       "</table>\n",
       "<table class=\"simpletable\">\n",
       "<tr>\n",
       "  <th>Omnibus:</th>       <td>54.256</td> <th>  Durbin-Watson:     </th> <td>   1.953</td>\n",
       "</tr>\n",
       "<tr>\n",
       "  <th>Prob(Omnibus):</th> <td> 0.000</td> <th>  Jarque-Bera (JB):  </th> <td> 239.618</td>\n",
       "</tr>\n",
       "<tr>\n",
       "  <th>Skew:</th>          <td> 2.080</td> <th>  Prob(JB):          </th> <td>9.28e-53</td>\n",
       "</tr>\n",
       "<tr>\n",
       "  <th>Kurtosis:</th>      <td>10.327</td> <th>  Cond. No.          </th> <td>2.04e+05</td>\n",
       "</tr>\n",
       "</table><br/><br/>Warnings:<br/>[1] Standard Errors assume that the covariance matrix of the errors is correctly specified.<br/>[2] The condition number is large, 2.04e+05. This might indicate that there are<br/>strong multicollinearity or other numerical problems."
      ],
      "text/plain": [
       "<class 'statsmodels.iolib.summary.Summary'>\n",
       "\"\"\"\n",
       "                            OLS Regression Results                            \n",
       "==============================================================================\n",
       "Dep. Variable:       Mortality Rate %   R-squared:                       0.072\n",
       "Model:                            OLS   Adj. R-squared:                  0.023\n",
       "Method:                 Least Squares   F-statistic:                     1.475\n",
       "Date:                Wed, 23 Dec 2020   Prob (F-statistic):              0.218\n",
       "Time:                        16:49:53   Log-Likelihood:                -146.43\n",
       "No. Observations:                  81   AIC:                             302.9\n",
       "Df Residuals:                      76   BIC:                             314.8\n",
       "Df Model:                           4                                         \n",
       "Covariance Type:            nonrobust                                         \n",
       "==========================================================================================================================\n",
       "                                                             coef    std err          t      P>|t|      [0.025      0.975]\n",
       "--------------------------------------------------------------------------------------------------------------------------\n",
       "const                                                      1.9218      1.247      1.541      0.128      -0.563       4.406\n",
       "GDP per Capita                                          1.741e-05   1.86e-05      0.936      0.352   -1.96e-05    5.44e-05\n",
       "Population Density                                        -0.0012      0.001     -1.695      0.094      -0.003       0.000\n",
       "Most Recent Gini Index                                     0.0214      0.025      0.841      0.403      -0.029       0.072\n",
       "Proportion of Internet Users in the Population in 2017    -1.1310      1.144     -0.988      0.326      -3.410       1.148\n",
       "==============================================================================\n",
       "Omnibus:                       54.256   Durbin-Watson:                   1.953\n",
       "Prob(Omnibus):                  0.000   Jarque-Bera (JB):              239.618\n",
       "Skew:                           2.080   Prob(JB):                     9.28e-53\n",
       "Kurtosis:                      10.327   Cond. No.                     2.04e+05\n",
       "==============================================================================\n",
       "\n",
       "Warnings:\n",
       "[1] Standard Errors assume that the covariance matrix of the errors is correctly specified.\n",
       "[2] The condition number is large, 2.04e+05. This might indicate that there are\n",
       "strong multicollinearity or other numerical problems.\n",
       "\"\"\""
      ]
     },
     "execution_count": 45,
     "metadata": {},
     "output_type": "execute_result"
    }
   ],
   "source": [
    "one = x_train.copy()\n",
    "one = sm.add_constant(one)\n",
    "model = sm.OLS(temp, one).fit()\n",
    "model.summary()"
   ]
  },
  {
   "cell_type": "markdown",
   "metadata": {},
   "source": [
    "# Trial 2"
   ]
  },
  {
   "cell_type": "code",
   "execution_count": 46,
   "metadata": {
    "scrolled": false
   },
   "outputs": [
    {
     "data": {
      "text/html": [
       "<table class=\"simpletable\">\n",
       "<caption>OLS Regression Results</caption>\n",
       "<tr>\n",
       "  <th>Dep. Variable:</th>    <td>Mortality Rate %</td> <th>  R-squared:         </th> <td>   0.063</td>\n",
       "</tr>\n",
       "<tr>\n",
       "  <th>Model:</th>                   <td>OLS</td>       <th>  Adj. R-squared:    </th> <td>   0.027</td>\n",
       "</tr>\n",
       "<tr>\n",
       "  <th>Method:</th>             <td>Least Squares</td>  <th>  F-statistic:       </th> <td>   1.737</td>\n",
       "</tr>\n",
       "<tr>\n",
       "  <th>Date:</th>             <td>Wed, 23 Dec 2020</td> <th>  Prob (F-statistic):</th>  <td> 0.166</td> \n",
       "</tr>\n",
       "<tr>\n",
       "  <th>Time:</th>                 <td>16:49:53</td>     <th>  Log-Likelihood:    </th> <td> -146.81</td>\n",
       "</tr>\n",
       "<tr>\n",
       "  <th>No. Observations:</th>      <td>    81</td>      <th>  AIC:               </th> <td>   301.6</td>\n",
       "</tr>\n",
       "<tr>\n",
       "  <th>Df Residuals:</th>          <td>    77</td>      <th>  BIC:               </th> <td>   311.2</td>\n",
       "</tr>\n",
       "<tr>\n",
       "  <th>Df Model:</th>              <td>     3</td>      <th>                     </th>     <td> </td>   \n",
       "</tr>\n",
       "<tr>\n",
       "  <th>Covariance Type:</th>      <td>nonrobust</td>    <th>                     </th>     <td> </td>   \n",
       "</tr>\n",
       "</table>\n",
       "<table class=\"simpletable\">\n",
       "<tr>\n",
       "                             <td></td>                               <th>coef</th>     <th>std err</th>      <th>t</th>      <th>P>|t|</th>  <th>[0.025</th>    <th>0.975]</th>  \n",
       "</tr>\n",
       "<tr>\n",
       "  <th>const</th>                                                  <td>    2.8956</td> <td>    0.465</td> <td>    6.233</td> <td> 0.000</td> <td>    1.970</td> <td>    3.821</td>\n",
       "</tr>\n",
       "<tr>\n",
       "  <th>GDP per Capita</th>                                         <td> 1.496e-05</td> <td> 1.83e-05</td> <td>    0.816</td> <td> 0.417</td> <td>-2.15e-05</td> <td> 5.15e-05</td>\n",
       "</tr>\n",
       "<tr>\n",
       "  <th>Population Density</th>                                     <td>   -0.0013</td> <td>    0.001</td> <td>   -1.913</td> <td> 0.059</td> <td>   -0.003</td> <td> 5.36e-05</td>\n",
       "</tr>\n",
       "<tr>\n",
       "  <th>Proportion of Internet Users in the Population in 2017</th> <td>   -1.3114</td> <td>    1.122</td> <td>   -1.169</td> <td> 0.246</td> <td>   -3.546</td> <td>    0.923</td>\n",
       "</tr>\n",
       "</table>\n",
       "<table class=\"simpletable\">\n",
       "<tr>\n",
       "  <th>Omnibus:</th>       <td>56.429</td> <th>  Durbin-Watson:     </th> <td>   1.934</td>\n",
       "</tr>\n",
       "<tr>\n",
       "  <th>Prob(Omnibus):</th> <td> 0.000</td> <th>  Jarque-Bera (JB):  </th> <td> 268.992</td>\n",
       "</tr>\n",
       "<tr>\n",
       "  <th>Skew:</th>          <td> 2.146</td> <th>  Prob(JB):          </th> <td>3.88e-59</td>\n",
       "</tr>\n",
       "<tr>\n",
       "  <th>Kurtosis:</th>      <td>10.828</td> <th>  Cond. No.          </th> <td>1.67e+05</td>\n",
       "</tr>\n",
       "</table><br/><br/>Warnings:<br/>[1] Standard Errors assume that the covariance matrix of the errors is correctly specified.<br/>[2] The condition number is large, 1.67e+05. This might indicate that there are<br/>strong multicollinearity or other numerical problems."
      ],
      "text/plain": [
       "<class 'statsmodels.iolib.summary.Summary'>\n",
       "\"\"\"\n",
       "                            OLS Regression Results                            \n",
       "==============================================================================\n",
       "Dep. Variable:       Mortality Rate %   R-squared:                       0.063\n",
       "Model:                            OLS   Adj. R-squared:                  0.027\n",
       "Method:                 Least Squares   F-statistic:                     1.737\n",
       "Date:                Wed, 23 Dec 2020   Prob (F-statistic):              0.166\n",
       "Time:                        16:49:53   Log-Likelihood:                -146.81\n",
       "No. Observations:                  81   AIC:                             301.6\n",
       "Df Residuals:                      77   BIC:                             311.2\n",
       "Df Model:                           3                                         \n",
       "Covariance Type:            nonrobust                                         \n",
       "==========================================================================================================================\n",
       "                                                             coef    std err          t      P>|t|      [0.025      0.975]\n",
       "--------------------------------------------------------------------------------------------------------------------------\n",
       "const                                                      2.8956      0.465      6.233      0.000       1.970       3.821\n",
       "GDP per Capita                                          1.496e-05   1.83e-05      0.816      0.417   -2.15e-05    5.15e-05\n",
       "Population Density                                        -0.0013      0.001     -1.913      0.059      -0.003    5.36e-05\n",
       "Proportion of Internet Users in the Population in 2017    -1.3114      1.122     -1.169      0.246      -3.546       0.923\n",
       "==============================================================================\n",
       "Omnibus:                       56.429   Durbin-Watson:                   1.934\n",
       "Prob(Omnibus):                  0.000   Jarque-Bera (JB):              268.992\n",
       "Skew:                           2.146   Prob(JB):                     3.88e-59\n",
       "Kurtosis:                      10.828   Cond. No.                     1.67e+05\n",
       "==============================================================================\n",
       "\n",
       "Warnings:\n",
       "[1] Standard Errors assume that the covariance matrix of the errors is correctly specified.\n",
       "[2] The condition number is large, 1.67e+05. This might indicate that there are\n",
       "strong multicollinearity or other numerical problems.\n",
       "\"\"\""
      ]
     },
     "execution_count": 46,
     "metadata": {},
     "output_type": "execute_result"
    }
   ],
   "source": [
    "two = x_train.copy().drop(columns = [\"Most Recent Gini Index\"])\n",
    "two = sm.add_constant(two)\n",
    "model = sm.OLS(temp, two).fit()\n",
    "model.summary()"
   ]
  },
  {
   "cell_type": "markdown",
   "metadata": {},
   "source": [
    "# Trial 3"
   ]
  },
  {
   "cell_type": "code",
   "execution_count": 47,
   "metadata": {},
   "outputs": [
    {
     "data": {
      "text/html": [
       "<table class=\"simpletable\">\n",
       "<caption>OLS Regression Results</caption>\n",
       "<tr>\n",
       "  <th>Dep. Variable:</th>    <td>Mortality Rate %</td> <th>  R-squared:         </th> <td>   0.055</td>\n",
       "</tr>\n",
       "<tr>\n",
       "  <th>Model:</th>                   <td>OLS</td>       <th>  Adj. R-squared:    </th> <td>   0.031</td>\n",
       "</tr>\n",
       "<tr>\n",
       "  <th>Method:</th>             <td>Least Squares</td>  <th>  F-statistic:       </th> <td>   2.282</td>\n",
       "</tr>\n",
       "<tr>\n",
       "  <th>Date:</th>             <td>Wed, 23 Dec 2020</td> <th>  Prob (F-statistic):</th>  <td> 0.109</td> \n",
       "</tr>\n",
       "<tr>\n",
       "  <th>Time:</th>                 <td>16:49:53</td>     <th>  Log-Likelihood:    </th> <td> -147.16</td>\n",
       "</tr>\n",
       "<tr>\n",
       "  <th>No. Observations:</th>      <td>    81</td>      <th>  AIC:               </th> <td>   300.3</td>\n",
       "</tr>\n",
       "<tr>\n",
       "  <th>Df Residuals:</th>          <td>    78</td>      <th>  BIC:               </th> <td>   307.5</td>\n",
       "</tr>\n",
       "<tr>\n",
       "  <th>Df Model:</th>              <td>     2</td>      <th>                     </th>     <td> </td>   \n",
       "</tr>\n",
       "<tr>\n",
       "  <th>Covariance Type:</th>      <td>nonrobust</td>    <th>                     </th>     <td> </td>   \n",
       "</tr>\n",
       "</table>\n",
       "<table class=\"simpletable\">\n",
       "<tr>\n",
       "                             <td></td>                               <th>coef</th>     <th>std err</th>      <th>t</th>      <th>P>|t|</th>  <th>[0.025</th>    <th>0.975]</th>  \n",
       "</tr>\n",
       "<tr>\n",
       "  <th>const</th>                                                  <td>    2.7540</td> <td>    0.430</td> <td>    6.404</td> <td> 0.000</td> <td>    1.898</td> <td>    3.610</td>\n",
       "</tr>\n",
       "<tr>\n",
       "  <th>Population Density</th>                                     <td>   -0.0013</td> <td>    0.001</td> <td>   -1.946</td> <td> 0.055</td> <td>   -0.003</td> <td> 3.06e-05</td>\n",
       "</tr>\n",
       "<tr>\n",
       "  <th>Proportion of Internet Users in the Population in 2017</th> <td>   -0.5791</td> <td>    0.672</td> <td>   -0.862</td> <td> 0.392</td> <td>   -1.917</td> <td>    0.759</td>\n",
       "</tr>\n",
       "</table>\n",
       "<table class=\"simpletable\">\n",
       "<tr>\n",
       "  <th>Omnibus:</th>       <td>55.346</td> <th>  Durbin-Watson:     </th> <td>   1.908</td>\n",
       "</tr>\n",
       "<tr>\n",
       "  <th>Prob(Omnibus):</th> <td> 0.000</td> <th>  Jarque-Bera (JB):  </th> <td> 248.274</td>\n",
       "</tr>\n",
       "<tr>\n",
       "  <th>Skew:</th>          <td> 2.127</td> <th>  Prob(JB):          </th> <td>1.22e-54</td>\n",
       "</tr>\n",
       "<tr>\n",
       "  <th>Kurtosis:</th>      <td>10.448</td> <th>  Cond. No.          </th> <td>1.35e+03</td>\n",
       "</tr>\n",
       "</table><br/><br/>Warnings:<br/>[1] Standard Errors assume that the covariance matrix of the errors is correctly specified.<br/>[2] The condition number is large, 1.35e+03. This might indicate that there are<br/>strong multicollinearity or other numerical problems."
      ],
      "text/plain": [
       "<class 'statsmodels.iolib.summary.Summary'>\n",
       "\"\"\"\n",
       "                            OLS Regression Results                            \n",
       "==============================================================================\n",
       "Dep. Variable:       Mortality Rate %   R-squared:                       0.055\n",
       "Model:                            OLS   Adj. R-squared:                  0.031\n",
       "Method:                 Least Squares   F-statistic:                     2.282\n",
       "Date:                Wed, 23 Dec 2020   Prob (F-statistic):              0.109\n",
       "Time:                        16:49:53   Log-Likelihood:                -147.16\n",
       "No. Observations:                  81   AIC:                             300.3\n",
       "Df Residuals:                      78   BIC:                             307.5\n",
       "Df Model:                           2                                         \n",
       "Covariance Type:            nonrobust                                         \n",
       "==========================================================================================================================\n",
       "                                                             coef    std err          t      P>|t|      [0.025      0.975]\n",
       "--------------------------------------------------------------------------------------------------------------------------\n",
       "const                                                      2.7540      0.430      6.404      0.000       1.898       3.610\n",
       "Population Density                                        -0.0013      0.001     -1.946      0.055      -0.003    3.06e-05\n",
       "Proportion of Internet Users in the Population in 2017    -0.5791      0.672     -0.862      0.392      -1.917       0.759\n",
       "==============================================================================\n",
       "Omnibus:                       55.346   Durbin-Watson:                   1.908\n",
       "Prob(Omnibus):                  0.000   Jarque-Bera (JB):              248.274\n",
       "Skew:                           2.127   Prob(JB):                     1.22e-54\n",
       "Kurtosis:                      10.448   Cond. No.                     1.35e+03\n",
       "==============================================================================\n",
       "\n",
       "Warnings:\n",
       "[1] Standard Errors assume that the covariance matrix of the errors is correctly specified.\n",
       "[2] The condition number is large, 1.35e+03. This might indicate that there are\n",
       "strong multicollinearity or other numerical problems.\n",
       "\"\"\""
      ]
     },
     "execution_count": 47,
     "metadata": {},
     "output_type": "execute_result"
    }
   ],
   "source": [
    "three = x_train.copy().drop(columns = [\"Most Recent Gini Index\", \"GDP per Capita\"])\n",
    "three = sm.add_constant(three)\n",
    "model = sm.OLS(temp, three).fit()\n",
    "model.summary()"
   ]
  },
  {
   "cell_type": "markdown",
   "metadata": {},
   "source": [
    "# Trial 4"
   ]
  },
  {
   "cell_type": "code",
   "execution_count": 48,
   "metadata": {},
   "outputs": [
    {
     "data": {
      "text/html": [
       "<table class=\"simpletable\">\n",
       "<caption>OLS Regression Results</caption>\n",
       "<tr>\n",
       "  <th>Dep. Variable:</th>    <td>Mortality Rate %</td> <th>  R-squared:         </th> <td>   0.009</td>\n",
       "</tr>\n",
       "<tr>\n",
       "  <th>Model:</th>                   <td>OLS</td>       <th>  Adj. R-squared:    </th> <td>  -0.003</td>\n",
       "</tr>\n",
       "<tr>\n",
       "  <th>Method:</th>             <td>Least Squares</td>  <th>  F-statistic:       </th> <td>  0.7500</td>\n",
       "</tr>\n",
       "<tr>\n",
       "  <th>Date:</th>             <td>Wed, 23 Dec 2020</td> <th>  Prob (F-statistic):</th>  <td> 0.389</td> \n",
       "</tr>\n",
       "<tr>\n",
       "  <th>Time:</th>                 <td>16:49:53</td>     <th>  Log-Likelihood:    </th> <td> -149.08</td>\n",
       "</tr>\n",
       "<tr>\n",
       "  <th>No. Observations:</th>      <td>    81</td>      <th>  AIC:               </th> <td>   302.2</td>\n",
       "</tr>\n",
       "<tr>\n",
       "  <th>Df Residuals:</th>          <td>    79</td>      <th>  BIC:               </th> <td>   306.9</td>\n",
       "</tr>\n",
       "<tr>\n",
       "  <th>Df Model:</th>              <td>     1</td>      <th>                     </th>     <td> </td>   \n",
       "</tr>\n",
       "<tr>\n",
       "  <th>Covariance Type:</th>      <td>nonrobust</td>    <th>                     </th>     <td> </td>   \n",
       "</tr>\n",
       "</table>\n",
       "<table class=\"simpletable\">\n",
       "<tr>\n",
       "                             <td></td>                               <th>coef</th>     <th>std err</th>      <th>t</th>      <th>P>|t|</th>  <th>[0.025</th>    <th>0.975]</th>  \n",
       "</tr>\n",
       "<tr>\n",
       "  <th>const</th>                                                  <td>    2.5521</td> <td>    0.425</td> <td>    6.010</td> <td> 0.000</td> <td>    1.707</td> <td>    3.397</td>\n",
       "</tr>\n",
       "<tr>\n",
       "  <th>Proportion of Internet Users in the Population in 2017</th> <td>   -0.5922</td> <td>    0.684</td> <td>   -0.866</td> <td> 0.389</td> <td>   -1.953</td> <td>    0.769</td>\n",
       "</tr>\n",
       "</table>\n",
       "<table class=\"simpletable\">\n",
       "<tr>\n",
       "  <th>Omnibus:</th>       <td>54.370</td> <th>  Durbin-Watson:     </th> <td>   1.877</td>\n",
       "</tr>\n",
       "<tr>\n",
       "  <th>Prob(Omnibus):</th> <td> 0.000</td> <th>  Jarque-Bera (JB):  </th> <td> 234.080</td>\n",
       "</tr>\n",
       "<tr>\n",
       "  <th>Skew:</th>          <td> 2.102</td> <th>  Prob(JB):          </th> <td>1.48e-51</td>\n",
       "</tr>\n",
       "<tr>\n",
       "  <th>Kurtosis:</th>      <td>10.189</td> <th>  Cond. No.          </th> <td>    5.34</td>\n",
       "</tr>\n",
       "</table><br/><br/>Warnings:<br/>[1] Standard Errors assume that the covariance matrix of the errors is correctly specified."
      ],
      "text/plain": [
       "<class 'statsmodels.iolib.summary.Summary'>\n",
       "\"\"\"\n",
       "                            OLS Regression Results                            \n",
       "==============================================================================\n",
       "Dep. Variable:       Mortality Rate %   R-squared:                       0.009\n",
       "Model:                            OLS   Adj. R-squared:                 -0.003\n",
       "Method:                 Least Squares   F-statistic:                    0.7500\n",
       "Date:                Wed, 23 Dec 2020   Prob (F-statistic):              0.389\n",
       "Time:                        16:49:53   Log-Likelihood:                -149.08\n",
       "No. Observations:                  81   AIC:                             302.2\n",
       "Df Residuals:                      79   BIC:                             306.9\n",
       "Df Model:                           1                                         \n",
       "Covariance Type:            nonrobust                                         \n",
       "==========================================================================================================================\n",
       "                                                             coef    std err          t      P>|t|      [0.025      0.975]\n",
       "--------------------------------------------------------------------------------------------------------------------------\n",
       "const                                                      2.5521      0.425      6.010      0.000       1.707       3.397\n",
       "Proportion of Internet Users in the Population in 2017    -0.5922      0.684     -0.866      0.389      -1.953       0.769\n",
       "==============================================================================\n",
       "Omnibus:                       54.370   Durbin-Watson:                   1.877\n",
       "Prob(Omnibus):                  0.000   Jarque-Bera (JB):              234.080\n",
       "Skew:                           2.102   Prob(JB):                     1.48e-51\n",
       "Kurtosis:                      10.189   Cond. No.                         5.34\n",
       "==============================================================================\n",
       "\n",
       "Warnings:\n",
       "[1] Standard Errors assume that the covariance matrix of the errors is correctly specified.\n",
       "\"\"\""
      ]
     },
     "execution_count": 48,
     "metadata": {},
     "output_type": "execute_result"
    }
   ],
   "source": [
    "four = x_train.copy().drop(columns = [\"Population Density\", \"Most Recent Gini Index\", \"GDP per Capita\"])\n",
    "four = sm.add_constant(four)\n",
    "model = sm.OLS(temp, four).fit()\n",
    "model.summary()"
   ]
  },
  {
   "cell_type": "markdown",
   "metadata": {},
   "source": [
    "# Result 2: We are unable to form a model between the Mortality Rate and Socio-economic factors. "
   ]
  },
  {
   "cell_type": "markdown",
   "metadata": {},
   "source": [
    "# Inference and Discussion"
   ]
  },
  {
   "cell_type": "markdown",
   "metadata": {},
   "source": [
    "From our correlation analysis, we observe that GDP per Capita has a positive correlation with the infection rate.\n",
    "We also observed that there is postive correlation with the proportion of internet users and infection rate, while having negative correaltion with mortality rates.\n",
    "\n",
    "From our regression analysis, we are only able to form a simple linear regression model between the proportion of internet users and infection rates albeit a rather poor one. \n",
    "\n",
    "The results from this study is relatively suprising and goes against our intuition: a richer and better developed nation will more likely have higher infection rates?! How?\n",
    "\n",
    "\n"
   ]
  },
  {
   "cell_type": "markdown",
   "metadata": {},
   "source": [
    "\n",
    "\n",
    "\n",
    "1. Information Dissemination\n",
    "\n",
    "More developed nations (i.e higher internet access rates) also will find the dissemination of information regarding symptomps and preventative measures. Thus, this is reflected in our correlation analysis. As more people become aware of the pandemic, the population would be more likely to take cautionary measures such as undergoing tests. Recognizing the symptoms and receiving treatment early on would therefore results in less deaths overall.\n",
    "         \n",
    "2. Data Issues\n",
    "\n",
    "In the wise words of Donald Trump:\n",
    "“Cases are going up in the U.S. because we are testing far more than any other country, and ever expanding,” Trump tweeted Tuesday. “With smaller testing we would show fewer cases!”\n",
    "    \n",
    "Indeed, richer and more developed countries tend to have more resources (infrastrucutre, medical professionals) to perform testing on a larger scale. Hence, countries with higher GDP per Capita will be more likely to have more complete and accurate that could be analyzed. Therefore, the results shown above is actually the outcome of testing standards rather than the relationship between the factors and the dependent variable.\n",
    "\n",
    "It is also important to note that the pandemic is still ongoing. Epidemic waves repeatedly come and go between intervals, thus the current data that we are using is simply a snippet of the bigger picture and the full effects of the pandemic have not been realised. Unfortunately, we can only wait for the future to tell us how everything would eventually play out. \n"
   ]
  },
  {
   "cell_type": "markdown",
   "metadata": {},
   "source": [
    "# Conclusion\n",
    "From the results of our data, we can ultimately conclude that equipping nations with better infrastrucuture to not only test and treat patient but also spreading information regarding the pandemic is crucial for them to combat such a pandemic.\n",
    "The coronovirus pandemic isn't the first, nor the last pandemic that we will face (hopefully), but continously improving communication and medical technologies might probably be the only way for us to stay ahead of a super pandemic."
   ]
  },
  {
   "cell_type": "code",
   "execution_count": null,
   "metadata": {},
   "outputs": [],
   "source": []
  }
 ],
 "metadata": {
  "kernelspec": {
   "display_name": "Python 3",
   "language": "python",
   "name": "python3"
  },
  "language_info": {
   "codemirror_mode": {
    "name": "ipython",
    "version": 3
   },
   "file_extension": ".py",
   "mimetype": "text/x-python",
   "name": "python",
   "nbconvert_exporter": "python",
   "pygments_lexer": "ipython3",
   "version": "3.8.3"
  }
 },
 "nbformat": 4,
 "nbformat_minor": 4
}
